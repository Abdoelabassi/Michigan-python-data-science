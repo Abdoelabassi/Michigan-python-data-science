{
 "cells": [
  {
   "attachments": {},
   "cell_type": "markdown",
   "metadata": {
    "deletable": false,
    "editable": false,
    "nbgrader": {
     "cell_type": "markdown",
     "checksum": "7539457c865cc3aec382650368b3be67",
     "grade": false,
     "grade_id": "cell-2ccb6b5d27ca3b7d",
     "locked": true,
     "schema_version": 3,
     "solution": false,
     "task": false
    }
   },
   "source": [
    "# Assignment 4\n",
    "\n",
    "Before working on this assignment please read these instructions fully. In the submission area, you will notice that you can click the link to **Preview the Grading** for each step of the assignment. This is the criteria that will be used for peer grading. Please familiarize yourself with the criteria before beginning the assignment.\n",
    "\n",
    "This assignment requires that you find **at least two datasets** on the web which are related, and that you visualize these datasets to answer the assignment question. You are free to utilize datasets with any location or domain, the usage of **Ann Arbor sports and athletics** datasets in the example is just a suggestion.\n",
    "\n",
    "You are welcome to choose datasets at your discretion, but keep in mind **they will be shared with your peers**, so choose appropriate datasets. Sensitive, confidential, illicit, and proprietary materials are not good choices for datasets for this assignment. You are welcome to upload datasets of your own as well, and link to them using a third party repository such as github, pastebin, etc. Please be aware of the Coursera terms of service with respect to intellectual property.\n",
    "\n",
    "Also, you are welcome to preserve data in its original language, but for the purposes of grading you should provide english translations. You are welcome to provide multiple visuals in different languages if you would like!\n",
    "\n",
    "As this assignment is for the whole course, you must incorporate principles discussed in the first week, such as having as high data-ink ratio (Tufte) and aligning with Cairo’s principles of truth, beauty, function, and insight.\n",
    "\n",
    "Here are the assignment instructions:\n",
    "\n",
    " * You must state a question you are seeking to answer with your visualizations.\n",
    " * You must provide at least two links to available datasets. These could be links to files such as CSV or Excel files, or links to websites which might have data in tabular form, such as Wikipedia pages.\n",
    " * You must upload an image which addresses the research question you stated. In addition to addressing the question, this visual should follow Cairo's principles of truthfulness, functionality, beauty, and insightfulness.\n",
    " * You must contribute a short (1-2 paragraph) written justification of how your visualization addresses your stated research question.\n",
    "\n",
    "## Tips\n",
    "* Wikipedia is an excellent source of data, and I strongly encourage you to explore it for new data sources.\n",
    "* Many governments run open data initiatives at the city, region, and country levels, and these are wonderful resources for localized data sources.\n",
    "* Several international agencies, such as the [United Nations](http://data.un.org/), the [World Bank](http://data.worldbank.org/), the [Global Open Data Index](http://index.okfn.org/place/) are other great places to look for data.\n",
    "* This assignment requires you to convert and clean datafiles. Check out the discussion forums for tips on how to do this from various sources, and share your successes with your fellow students!\n",
    "\n",
    "## Example\n",
    "Looking for an example? Here's what our course assistant put together as an example! [Example Solution File](./readonly/Assignment4_example.pdf)"
   ]
  },
  {
   "cell_type": "code",
   "execution_count": 1,
   "metadata": {},
   "outputs": [],
   "source": [
    "import numpy as np\n",
    "import pandas as pd\n",
    "import matplotlib.pyplot as plt\n",
    "import seaborn as sns\n",
    "import scipy.stats as stats\n",
    "import warnings\n",
    "\n",
    "%matplotlib inline\n",
    "\n",
    "warnings.filterwarnings('ignore')"
   ]
  },
  {
   "cell_type": "markdown",
   "metadata": {},
   "source": [
    "# Dataset\n",
    "<p>This datasets contains PM (particle matter), temperature, and humidity readings taken with low-cost sensors, These sensors measure the concentration of PM in the air, including particles with diameters less than or equal to 1 micrometer (PM1), 2.5 micrometer (PM2.5). and particles with diameters less than or equal to 10 micrometers (PM10). The data set includes information on the sensor type, date, time and location of the readings, as well as the sensor's specific measurement values for Termperature (C), Humidity (%), PM1, PM2.5, and PM10.\n",
    "The dataset contains the sensor measurement bewteen May-August 2021 (3 csv files)</p>\n",
    "<h4>Question: How air quality changed across 3 months </h4>\n",
    "\n",
    "<footer>\n",
    "Resources:\n",
    "<ul>\n",
    "    <li><a href=\"https://africaopendata.org/dataset/sensorsafrica-airquality-archive-vanderbijlpark\" >Africa Open data</a></li>\n",
    "    <li><a href=\"https://openafrica.net/dataset/912c4b7c-7ec1-4fe5-8f4e-c0966262020b/resource/5543e478-63c5-4237-8ef9-5deae376c8a6/download/may_2021_sensor_data_archive.csv\" >May-data</a></li>\n",
    "    <li><a href=\"https://openafrica.net/dataset/912c4b7c-7ec1-4fe5-8f4e-c0966262020b/resource/c1c0a75e-2b75-480e-ac2a-6b6269b5e2dd/download/june_2021_sensor_data_archive.csv\" >June-data</a></li>\n",
    "    <li><a href=\"https://openafrica.net/dataset/912c4b7c-7ec1-4fe5-8f4e-c0966262020b/resource/c5fb4f33-eaed-490c-8c91-07ff5e61d181/download/july_2021_sensor_data_archive.csv\" >July-data</a></li>\n",
    "    <li><a href=\"https://openafrica.net/dataset/912c4b7c-7ec1-4fe5-8f4e-c0966262020b/resource/ceb9ceea-2c5c-46d9-b7dc-8c6876c228fa/download/august_2021_sensor_data_archive.csv\" >August-data</a></li>\n",
    "</ul>\n",
    "</footer>"
   ]
  },
  {
   "cell_type": "code",
   "execution_count": 2,
   "metadata": {},
   "outputs": [
    {
     "data": {
      "text/html": [
       "<div>\n",
       "<style scoped>\n",
       "    .dataframe tbody tr th:only-of-type {\n",
       "        vertical-align: middle;\n",
       "    }\n",
       "\n",
       "    .dataframe tbody tr th {\n",
       "        vertical-align: top;\n",
       "    }\n",
       "\n",
       "    .dataframe thead th {\n",
       "        text-align: right;\n",
       "    }\n",
       "</style>\n",
       "<table border=\"1\" class=\"dataframe\">\n",
       "  <thead>\n",
       "    <tr style=\"text-align: right;\">\n",
       "      <th></th>\n",
       "      <th>sensor_id;sensor_type;location;lat;lon;timestamp;value_type;value</th>\n",
       "    </tr>\n",
       "  </thead>\n",
       "  <tbody>\n",
       "    <tr>\n",
       "      <th>0</th>\n",
       "      <td>108;pms5003;3520;-26.689;27.817;2021-05-13T14:...</td>\n",
       "    </tr>\n",
       "    <tr>\n",
       "      <th>1</th>\n",
       "      <td>108;pms5003;3520;-26.689;27.817;2021-05-13T14:...</td>\n",
       "    </tr>\n",
       "    <tr>\n",
       "      <th>2</th>\n",
       "      <td>108;pms5003;3520;-26.689;27.817;2021-05-13T14:...</td>\n",
       "    </tr>\n",
       "    <tr>\n",
       "      <th>3</th>\n",
       "      <td>107;DHT22;3520;-26.689;27.817;2021-05-13T14:38...</td>\n",
       "    </tr>\n",
       "    <tr>\n",
       "      <th>4</th>\n",
       "      <td>107;DHT22;3520;-26.689;27.817;2021-05-13T14:38...</td>\n",
       "    </tr>\n",
       "  </tbody>\n",
       "</table>\n",
       "</div>"
      ],
      "text/plain": [
       "  sensor_id;sensor_type;location;lat;lon;timestamp;value_type;value\n",
       "0  108;pms5003;3520;-26.689;27.817;2021-05-13T14:...               \n",
       "1  108;pms5003;3520;-26.689;27.817;2021-05-13T14:...               \n",
       "2  108;pms5003;3520;-26.689;27.817;2021-05-13T14:...               \n",
       "3  107;DHT22;3520;-26.689;27.817;2021-05-13T14:38...               \n",
       "4  107;DHT22;3520;-26.689;27.817;2021-05-13T14:38...               "
      ]
     },
     "execution_count": 2,
     "metadata": {},
     "output_type": "execute_result"
    }
   ],
   "source": [
    "may_df = pd.read_csv(\"may_2021_sensor_data_archive.csv\")\n",
    "june_df = pd.read_csv(\"june_2021_sensor_data_archive.csv\")\n",
    "july_df = pd.read_csv(\"july_2021_sensor_data_archive.csv\")\n",
    "august_df = pd.read_csv(\"august_2021_sensor_data_archive.csv\")\n",
    "\n",
    "may_df.head()"
   ]
  }
 ],
 "metadata": {
  "coursera": {
   "schema_names": [
    "mooc_adswpy_v1_assignment4"
   ]
  },
  "kernelspec": {
   "display_name": "Python 3",
   "language": "python",
   "name": "python3"
  },
  "language_info": {
   "codemirror_mode": {
    "name": "ipython",
    "version": 3
   },
   "file_extension": ".py",
   "mimetype": "text/x-python",
   "name": "python",
   "nbconvert_exporter": "python",
   "pygments_lexer": "ipython3",
   "version": "3.11.5"
  },
  "vscode": {
   "interpreter": {
    "hash": "aee8b7b246df8f9039afb4144a1f6fd8d2ca17a180786b69acc140d282b71a49"
   }
  }
 },
 "nbformat": 4,
 "nbformat_minor": 4
}

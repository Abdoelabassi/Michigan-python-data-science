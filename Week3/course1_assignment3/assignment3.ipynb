{
 "cells": [
  {
   "cell_type": "markdown",
   "metadata": {
    "deletable": false,
    "editable": false,
    "nbgrader": {
     "cell_type": "markdown",
     "checksum": "ab80976c194c2c1bfebb7f3a12fc4e58",
     "grade": false,
     "grade_id": "cell-018440ed2f1b6a62",
     "locked": true,
     "schema_version": 3,
     "solution": false
    }
   },
   "source": [
    "# Assignment 3\n",
    "All questions are weighted the same in this assignment. This assignment requires more individual learning then the last one did - you are encouraged to check out the [pandas documentation](http://pandas.pydata.org/pandas-docs/stable/) to find functions or methods you might not have used yet, or ask questions on [Stack Overflow](http://stackoverflow.com/) and tag them as pandas and python related. All questions are worth the same number of points except question 1 which is worth 17% of the assignment grade.\n",
    "\n",
    "**Note**: Questions 2-13 rely on your question 1 answer."
   ]
  },
  {
   "cell_type": "code",
   "execution_count": 1,
   "metadata": {
    "ExecuteTime": {
     "end_time": "2023-12-25T15:31:45.987873Z",
     "start_time": "2023-12-25T15:31:45.027733Z"
    }
   },
   "outputs": [],
   "source": [
    "import pandas as pd\n",
    "import numpy as np\n",
    "\n",
    "# Filter all warnings. If you would like to see the warnings, please comment the two lines below.\n",
    "import warnings\n",
    "warnings.filterwarnings('ignore')"
   ]
  },
  {
   "cell_type": "markdown",
   "metadata": {
    "deletable": false,
    "editable": false,
    "nbgrader": {
     "cell_type": "markdown",
     "checksum": "2d8c745cdfcb8249a07e18dffb1b94ac",
     "grade": false,
     "grade_id": "cell-7e5190c7ff1f2e42",
     "locked": true,
     "schema_version": 3,
     "solution": false
    }
   },
   "source": [
    "### Question 1\n",
    "Load the energy data from the file `assets/Energy Indicators.xls`, which is a list of indicators of [energy supply and renewable electricity production](assets/Energy%20Indicators.xls) from the [United Nations](http://unstats.un.org/unsd/environment/excel_file_tables/2013/Energy%20Indicators.xls) for the year 2013, and should be put into a DataFrame with the variable name of **Energy**.\n",
    "\n",
    "Keep in mind that this is an Excel file, and not a comma separated values file. Also, make sure to exclude the footer and header information from the datafile. The first two columns are unneccessary, so you should get rid of them, and you should change the column labels so that the columns are:\n",
    "\n",
    "`['Country', 'Energy Supply', 'Energy Supply per Capita', '% Renewable]`\n",
    "\n",
    "Convert `Energy Supply` to gigajoules (**Note: there are 1,000,000 gigajoules in a petajoule**). For all countries which have missing data (e.g. data with \"...\") make sure this is reflected as `np.NaN` values.\n",
    "\n",
    "Rename the following list of countries (for use in later questions):\n",
    "\n",
    "```\"Republic of Korea\": \"South Korea\",\n",
    "\"United States of America\": \"United States\",\n",
    "\"United Kingdom of Great Britain and Northern Ireland\": \"United Kingdom\",\n",
    "\"China, Hong Kong Special Administrative Region\": \"Hong Kong\"```\n",
    "\n",
    "There are also several countries with parenthesis in their name. Be sure to remove these, e.g. `'Bolivia (Plurinational State of)'` should be `'Bolivia'`. Additionally, there are several countries with Numeric digits in their name. Make sure to remove these as well, e.g. `'Italy9'` should be `'Italy'`. \n",
    "\n",
    "Next, load the GDP data from the file `assets/world_bank.csv`, which is a csv containing countries' GDP from 1960 to 2015 from [World Bank](http://data.worldbank.org/indicator/NY.GDP.MKTP.CD). Call this DataFrame **GDP**. \n",
    "\n",
    "Make sure to skip the header, and rename the following list of countries:\n",
    "\n",
    "```\"Korea, Rep.\": \"South Korea\", \n",
    "\"Iran, Islamic Rep.\": \"Iran\",\n",
    "\"Hong Kong SAR, China\": \"Hong Kong\"```\n",
    "\n",
    "Finally, load the [Sciamgo Journal and Country Rank data for Energy Engineering and Power Technology](http://www.scimagojr.com/countryrank.php?category=2102) from the file `assets/scimagojr-3.xlsx`, which ranks countries based on their journal contributions in the aforementioned area. Call this DataFrame **ScimEn**.\n",
    "\n",
    "Join the three datasets: GDP, Energy, and ScimEn into a new dataset (using the intersection of country names). Use only the last 10 years (2006-2015) of GDP data and only the top 15 countries by Scimagojr 'Rank' (Rank 1 through 15). \n",
    "\n",
    "The index of this DataFrame should be the name of the country, and the columns should be ['Rank', 'Documents', 'Citable documents', 'Citations', 'Self-citations',\n",
    "       'Citations per document', 'H index', 'Energy Supply',\n",
    "       'Energy Supply per Capita', '% Renewable', '2006', '2007', '2008',\n",
    "       '2009', '2010', '2011', '2012', '2013', '2014', '2015'].\n",
    "\n",
    "*This function should return a DataFrame with 20 columns and 15 entries, and the rows of the DataFrame should be sorted by \"Rank\".*"
   ]
  },
  {
   "cell_type": "code",
   "execution_count": 96,
   "metadata": {
    "deletable": false,
    "nbgrader": {
     "cell_type": "code",
     "checksum": "57e040f07954f979910eddc0f489ffe5",
     "grade": false,
     "grade_id": "cell-bce4d6f2ecdd1297",
     "locked": false,
     "schema_version": 3,
     "solution": true
    },
    "ExecuteTime": {
     "end_time": "2023-12-25T20:51:10.601403Z",
     "start_time": "2023-12-25T20:51:10.474109Z"
    }
   },
   "outputs": [
    {
     "data": {
      "text/plain": "                    Rank  Documents  Citable documents  Citations  \\\nCountry                                                             \nChina                  1     127050             126767     597237   \nUnited States          2      96661              94747     792274   \nJapan                  3      30504              30287     223024   \nUnited Kingdom         4      20944              20357     206091   \nRussian Federation     5      18534              18301      34266   \nCanada                 6      17899              17620     215003   \nGermany                7      17027              16831     140566   \nIndia                  8      15005              14841     128763   \nFrance                 9      13153              12973     130632   \nSouth Korea           10      11983              11923     114675   \nItaly                 11      10964              10794     111850   \nSpain                 12       9428               9330     123336   \nIran                  13       8896               8819      57470   \nAustralia             14       8831               8725      90765   \nBrazil                15       8668               8596      60702   \n\n                    Self-citations  Citations per document  H index  \\\nCountry                                                               \nChina                       411683                    4.70      138   \nUnited States               265436                    8.20      230   \nJapan                        61554                    7.31      134   \nUnited Kingdom               37874                    9.84      139   \nRussian Federation           12422                    1.85       57   \nCanada                       40930                   12.01      149   \nGermany                      27426                    8.26      126   \nIndia                        37209                    8.58      115   \nFrance                       28601                    9.93      114   \nSouth Korea                  22595                    9.57      104   \nItaly                        26661                   10.20      106   \nSpain                        23964                   13.08      115   \nIran                         19125                    6.46       72   \nAustralia                    15606                   10.28      107   \nBrazil                       14396                    7.00       86   \n\n                    Energy Supply  Energy Supply per Capita  % Renewable  \\\nCountry                                                                    \nChina                         inf                      93.0    19.754910   \nUnited States                 inf                     286.0    11.570980   \nJapan                1.897600e+10                     149.0    10.232820   \nUnited Kingdom       7.920000e+09                     124.0    10.600470   \nRussian Federation   3.070400e+10                     214.0    17.288680   \nCanada               1.043200e+10                     296.0    61.945430   \nGermany              1.326400e+10                     165.0    17.901530   \nIndia                3.318400e+10                      26.0    14.969080   \nFrance               1.060000e+10                     166.0    17.020280   \nSouth Korea          1.100800e+10                     221.0     2.279353   \nItaly                6.528000e+09                     109.0    33.667230   \nSpain                4.924000e+09                     106.0    37.968590   \nIran                 9.168000e+09                     119.0     5.707721   \nAustralia            5.384000e+09                     231.0    11.810810   \nBrazil               1.215200e+10                      59.0    69.648030   \n\n                            2006          2007          2008          2009  \\\nCountry                                                                      \nChina               3.992331e+12  4.559041e+12  4.997775e+12  5.459247e+12   \nUnited States       1.479230e+13  1.505540e+13  1.501149e+13  1.459484e+13   \nJapan               5.496542e+12  5.617036e+12  5.558527e+12  5.251308e+12   \nUnited Kingdom      2.419631e+12  2.482203e+12  2.470614e+12  2.367048e+12   \nRussian Federation  1.385793e+12  1.504071e+12  1.583004e+12  1.459199e+12   \nCanada              1.564469e+12  1.596740e+12  1.612713e+12  1.565145e+12   \nGermany             3.332891e+12  3.441561e+12  3.478809e+12  3.283340e+12   \nIndia               1.265894e+12  1.374865e+12  1.428361e+12  1.549483e+12   \nFrance              2.607840e+12  2.669424e+12  2.674637e+12  2.595967e+12   \nSouth Korea         9.410199e+11  9.924316e+11  1.020510e+12  1.027730e+12   \nItaly               2.202170e+12  2.234627e+12  2.211154e+12  2.089938e+12   \nSpain               1.414823e+12  1.468146e+12  1.484530e+12  1.431475e+12   \nIran                3.895523e+11  4.250646e+11  4.289909e+11  4.389208e+11   \nAustralia           1.021939e+12  1.060340e+12  1.099644e+12  1.119654e+12   \nBrazil              1.845080e+12  1.957118e+12  2.056809e+12  2.054215e+12   \n\n                            2010          2011          2012          2013  \\\nCountry                                                                      \nChina               6.039659e+12  6.612490e+12  7.124978e+12  7.672448e+12   \nUnited States       1.496437e+13  1.520402e+13  1.554216e+13  1.577367e+13   \nJapan               5.498718e+12  5.473738e+12  5.569102e+12  5.644659e+12   \nUnited Kingdom      2.403504e+12  2.450911e+12  2.479809e+12  2.533370e+12   \nRussian Federation  1.524917e+12  1.589943e+12  1.645876e+12  1.666934e+12   \nCanada              1.613406e+12  1.664087e+12  1.693133e+12  1.730688e+12   \nGermany             3.417298e+12  3.542371e+12  3.556724e+12  3.567317e+12   \nIndia               1.708459e+12  1.821872e+12  1.924235e+12  2.051982e+12   \nFrance              2.646995e+12  2.702032e+12  2.706968e+12  2.722567e+12   \nSouth Korea         1.094499e+12  1.134796e+12  1.160809e+12  1.194429e+12   \nItaly               2.125185e+12  2.137439e+12  2.077184e+12  2.040871e+12   \nSpain               1.431673e+12  1.417355e+12  1.380216e+12  1.357139e+12   \nIran                4.677902e+11  4.853309e+11  4.532569e+11  4.445926e+11   \nAustralia           1.142251e+12  1.169431e+12  1.211913e+12  1.241484e+12   \nBrazil              2.208872e+12  2.295245e+12  2.339209e+12  2.409740e+12   \n\n                            2014          2015  \nCountry                                         \nChina               8.230121e+12  8.797999e+12  \nUnited States       1.615662e+13  1.654857e+13  \nJapan               5.642884e+12  5.669563e+12  \nUnited Kingdom      2.605643e+12  2.666333e+12  \nRussian Federation  1.678709e+12  1.616149e+12  \nCanada              1.773486e+12  1.792609e+12  \nGermany             3.624386e+12  3.685556e+12  \nIndia               2.200617e+12  2.367206e+12  \nFrance              2.729632e+12  2.761185e+12  \nSouth Korea         1.234340e+12  1.266580e+12  \nItaly               2.033868e+12  2.049316e+12  \nSpain               1.375605e+12  1.419821e+12  \nIran                4.639027e+11           NaN  \nAustralia           1.272520e+12  1.301251e+12  \nBrazil              2.412231e+12  2.319423e+12  ",
      "text/html": "<div>\n<style scoped>\n    .dataframe tbody tr th:only-of-type {\n        vertical-align: middle;\n    }\n\n    .dataframe tbody tr th {\n        vertical-align: top;\n    }\n\n    .dataframe thead th {\n        text-align: right;\n    }\n</style>\n<table border=\"1\" class=\"dataframe\">\n  <thead>\n    <tr style=\"text-align: right;\">\n      <th></th>\n      <th>Rank</th>\n      <th>Documents</th>\n      <th>Citable documents</th>\n      <th>Citations</th>\n      <th>Self-citations</th>\n      <th>Citations per document</th>\n      <th>H index</th>\n      <th>Energy Supply</th>\n      <th>Energy Supply per Capita</th>\n      <th>% Renewable</th>\n      <th>2006</th>\n      <th>2007</th>\n      <th>2008</th>\n      <th>2009</th>\n      <th>2010</th>\n      <th>2011</th>\n      <th>2012</th>\n      <th>2013</th>\n      <th>2014</th>\n      <th>2015</th>\n    </tr>\n    <tr>\n      <th>Country</th>\n      <th></th>\n      <th></th>\n      <th></th>\n      <th></th>\n      <th></th>\n      <th></th>\n      <th></th>\n      <th></th>\n      <th></th>\n      <th></th>\n      <th></th>\n      <th></th>\n      <th></th>\n      <th></th>\n      <th></th>\n      <th></th>\n      <th></th>\n      <th></th>\n      <th></th>\n      <th></th>\n    </tr>\n  </thead>\n  <tbody>\n    <tr>\n      <th>China</th>\n      <td>1</td>\n      <td>127050</td>\n      <td>126767</td>\n      <td>597237</td>\n      <td>411683</td>\n      <td>4.70</td>\n      <td>138</td>\n      <td>inf</td>\n      <td>93.0</td>\n      <td>19.754910</td>\n      <td>3.992331e+12</td>\n      <td>4.559041e+12</td>\n      <td>4.997775e+12</td>\n      <td>5.459247e+12</td>\n      <td>6.039659e+12</td>\n      <td>6.612490e+12</td>\n      <td>7.124978e+12</td>\n      <td>7.672448e+12</td>\n      <td>8.230121e+12</td>\n      <td>8.797999e+12</td>\n    </tr>\n    <tr>\n      <th>United States</th>\n      <td>2</td>\n      <td>96661</td>\n      <td>94747</td>\n      <td>792274</td>\n      <td>265436</td>\n      <td>8.20</td>\n      <td>230</td>\n      <td>inf</td>\n      <td>286.0</td>\n      <td>11.570980</td>\n      <td>1.479230e+13</td>\n      <td>1.505540e+13</td>\n      <td>1.501149e+13</td>\n      <td>1.459484e+13</td>\n      <td>1.496437e+13</td>\n      <td>1.520402e+13</td>\n      <td>1.554216e+13</td>\n      <td>1.577367e+13</td>\n      <td>1.615662e+13</td>\n      <td>1.654857e+13</td>\n    </tr>\n    <tr>\n      <th>Japan</th>\n      <td>3</td>\n      <td>30504</td>\n      <td>30287</td>\n      <td>223024</td>\n      <td>61554</td>\n      <td>7.31</td>\n      <td>134</td>\n      <td>1.897600e+10</td>\n      <td>149.0</td>\n      <td>10.232820</td>\n      <td>5.496542e+12</td>\n      <td>5.617036e+12</td>\n      <td>5.558527e+12</td>\n      <td>5.251308e+12</td>\n      <td>5.498718e+12</td>\n      <td>5.473738e+12</td>\n      <td>5.569102e+12</td>\n      <td>5.644659e+12</td>\n      <td>5.642884e+12</td>\n      <td>5.669563e+12</td>\n    </tr>\n    <tr>\n      <th>United Kingdom</th>\n      <td>4</td>\n      <td>20944</td>\n      <td>20357</td>\n      <td>206091</td>\n      <td>37874</td>\n      <td>9.84</td>\n      <td>139</td>\n      <td>7.920000e+09</td>\n      <td>124.0</td>\n      <td>10.600470</td>\n      <td>2.419631e+12</td>\n      <td>2.482203e+12</td>\n      <td>2.470614e+12</td>\n      <td>2.367048e+12</td>\n      <td>2.403504e+12</td>\n      <td>2.450911e+12</td>\n      <td>2.479809e+12</td>\n      <td>2.533370e+12</td>\n      <td>2.605643e+12</td>\n      <td>2.666333e+12</td>\n    </tr>\n    <tr>\n      <th>Russian Federation</th>\n      <td>5</td>\n      <td>18534</td>\n      <td>18301</td>\n      <td>34266</td>\n      <td>12422</td>\n      <td>1.85</td>\n      <td>57</td>\n      <td>3.070400e+10</td>\n      <td>214.0</td>\n      <td>17.288680</td>\n      <td>1.385793e+12</td>\n      <td>1.504071e+12</td>\n      <td>1.583004e+12</td>\n      <td>1.459199e+12</td>\n      <td>1.524917e+12</td>\n      <td>1.589943e+12</td>\n      <td>1.645876e+12</td>\n      <td>1.666934e+12</td>\n      <td>1.678709e+12</td>\n      <td>1.616149e+12</td>\n    </tr>\n    <tr>\n      <th>Canada</th>\n      <td>6</td>\n      <td>17899</td>\n      <td>17620</td>\n      <td>215003</td>\n      <td>40930</td>\n      <td>12.01</td>\n      <td>149</td>\n      <td>1.043200e+10</td>\n      <td>296.0</td>\n      <td>61.945430</td>\n      <td>1.564469e+12</td>\n      <td>1.596740e+12</td>\n      <td>1.612713e+12</td>\n      <td>1.565145e+12</td>\n      <td>1.613406e+12</td>\n      <td>1.664087e+12</td>\n      <td>1.693133e+12</td>\n      <td>1.730688e+12</td>\n      <td>1.773486e+12</td>\n      <td>1.792609e+12</td>\n    </tr>\n    <tr>\n      <th>Germany</th>\n      <td>7</td>\n      <td>17027</td>\n      <td>16831</td>\n      <td>140566</td>\n      <td>27426</td>\n      <td>8.26</td>\n      <td>126</td>\n      <td>1.326400e+10</td>\n      <td>165.0</td>\n      <td>17.901530</td>\n      <td>3.332891e+12</td>\n      <td>3.441561e+12</td>\n      <td>3.478809e+12</td>\n      <td>3.283340e+12</td>\n      <td>3.417298e+12</td>\n      <td>3.542371e+12</td>\n      <td>3.556724e+12</td>\n      <td>3.567317e+12</td>\n      <td>3.624386e+12</td>\n      <td>3.685556e+12</td>\n    </tr>\n    <tr>\n      <th>India</th>\n      <td>8</td>\n      <td>15005</td>\n      <td>14841</td>\n      <td>128763</td>\n      <td>37209</td>\n      <td>8.58</td>\n      <td>115</td>\n      <td>3.318400e+10</td>\n      <td>26.0</td>\n      <td>14.969080</td>\n      <td>1.265894e+12</td>\n      <td>1.374865e+12</td>\n      <td>1.428361e+12</td>\n      <td>1.549483e+12</td>\n      <td>1.708459e+12</td>\n      <td>1.821872e+12</td>\n      <td>1.924235e+12</td>\n      <td>2.051982e+12</td>\n      <td>2.200617e+12</td>\n      <td>2.367206e+12</td>\n    </tr>\n    <tr>\n      <th>France</th>\n      <td>9</td>\n      <td>13153</td>\n      <td>12973</td>\n      <td>130632</td>\n      <td>28601</td>\n      <td>9.93</td>\n      <td>114</td>\n      <td>1.060000e+10</td>\n      <td>166.0</td>\n      <td>17.020280</td>\n      <td>2.607840e+12</td>\n      <td>2.669424e+12</td>\n      <td>2.674637e+12</td>\n      <td>2.595967e+12</td>\n      <td>2.646995e+12</td>\n      <td>2.702032e+12</td>\n      <td>2.706968e+12</td>\n      <td>2.722567e+12</td>\n      <td>2.729632e+12</td>\n      <td>2.761185e+12</td>\n    </tr>\n    <tr>\n      <th>South Korea</th>\n      <td>10</td>\n      <td>11983</td>\n      <td>11923</td>\n      <td>114675</td>\n      <td>22595</td>\n      <td>9.57</td>\n      <td>104</td>\n      <td>1.100800e+10</td>\n      <td>221.0</td>\n      <td>2.279353</td>\n      <td>9.410199e+11</td>\n      <td>9.924316e+11</td>\n      <td>1.020510e+12</td>\n      <td>1.027730e+12</td>\n      <td>1.094499e+12</td>\n      <td>1.134796e+12</td>\n      <td>1.160809e+12</td>\n      <td>1.194429e+12</td>\n      <td>1.234340e+12</td>\n      <td>1.266580e+12</td>\n    </tr>\n    <tr>\n      <th>Italy</th>\n      <td>11</td>\n      <td>10964</td>\n      <td>10794</td>\n      <td>111850</td>\n      <td>26661</td>\n      <td>10.20</td>\n      <td>106</td>\n      <td>6.528000e+09</td>\n      <td>109.0</td>\n      <td>33.667230</td>\n      <td>2.202170e+12</td>\n      <td>2.234627e+12</td>\n      <td>2.211154e+12</td>\n      <td>2.089938e+12</td>\n      <td>2.125185e+12</td>\n      <td>2.137439e+12</td>\n      <td>2.077184e+12</td>\n      <td>2.040871e+12</td>\n      <td>2.033868e+12</td>\n      <td>2.049316e+12</td>\n    </tr>\n    <tr>\n      <th>Spain</th>\n      <td>12</td>\n      <td>9428</td>\n      <td>9330</td>\n      <td>123336</td>\n      <td>23964</td>\n      <td>13.08</td>\n      <td>115</td>\n      <td>4.924000e+09</td>\n      <td>106.0</td>\n      <td>37.968590</td>\n      <td>1.414823e+12</td>\n      <td>1.468146e+12</td>\n      <td>1.484530e+12</td>\n      <td>1.431475e+12</td>\n      <td>1.431673e+12</td>\n      <td>1.417355e+12</td>\n      <td>1.380216e+12</td>\n      <td>1.357139e+12</td>\n      <td>1.375605e+12</td>\n      <td>1.419821e+12</td>\n    </tr>\n    <tr>\n      <th>Iran</th>\n      <td>13</td>\n      <td>8896</td>\n      <td>8819</td>\n      <td>57470</td>\n      <td>19125</td>\n      <td>6.46</td>\n      <td>72</td>\n      <td>9.168000e+09</td>\n      <td>119.0</td>\n      <td>5.707721</td>\n      <td>3.895523e+11</td>\n      <td>4.250646e+11</td>\n      <td>4.289909e+11</td>\n      <td>4.389208e+11</td>\n      <td>4.677902e+11</td>\n      <td>4.853309e+11</td>\n      <td>4.532569e+11</td>\n      <td>4.445926e+11</td>\n      <td>4.639027e+11</td>\n      <td>NaN</td>\n    </tr>\n    <tr>\n      <th>Australia</th>\n      <td>14</td>\n      <td>8831</td>\n      <td>8725</td>\n      <td>90765</td>\n      <td>15606</td>\n      <td>10.28</td>\n      <td>107</td>\n      <td>5.384000e+09</td>\n      <td>231.0</td>\n      <td>11.810810</td>\n      <td>1.021939e+12</td>\n      <td>1.060340e+12</td>\n      <td>1.099644e+12</td>\n      <td>1.119654e+12</td>\n      <td>1.142251e+12</td>\n      <td>1.169431e+12</td>\n      <td>1.211913e+12</td>\n      <td>1.241484e+12</td>\n      <td>1.272520e+12</td>\n      <td>1.301251e+12</td>\n    </tr>\n    <tr>\n      <th>Brazil</th>\n      <td>15</td>\n      <td>8668</td>\n      <td>8596</td>\n      <td>60702</td>\n      <td>14396</td>\n      <td>7.00</td>\n      <td>86</td>\n      <td>1.215200e+10</td>\n      <td>59.0</td>\n      <td>69.648030</td>\n      <td>1.845080e+12</td>\n      <td>1.957118e+12</td>\n      <td>2.056809e+12</td>\n      <td>2.054215e+12</td>\n      <td>2.208872e+12</td>\n      <td>2.295245e+12</td>\n      <td>2.339209e+12</td>\n      <td>2.409740e+12</td>\n      <td>2.412231e+12</td>\n      <td>2.319423e+12</td>\n    </tr>\n  </tbody>\n</table>\n</div>"
     },
     "execution_count": 96,
     "metadata": {},
     "output_type": "execute_result"
    }
   ],
   "source": [
    "def answer_one():\n",
    "    # YOUR CODE HERE\n",
    "    Energy = pd.read_excel(\"assets/Energy Indicators.xls\", skipfooter=38, skiprows=16)\n",
    "    # drop the first two columns\n",
    "    Energy = Energy.drop([\"Unnamed: 0\", \"Unnamed: 1\"], axis=1)\n",
    "    # rename columns\n",
    "    Energy = Energy.rename(columns={\n",
    "        \"Unnamed: 2\": \"Country\", \n",
    "        \"Energy Supply per capita\":\"Energy Supply per Capita\",\n",
    "        \"Renewable Electricity Production\":\"% Renewable\"})\n",
    "    # convert energy supply to gigajoules: 1 PJ = 1000000 GJ\n",
    "    Energy = Energy.drop(0)\n",
    "    Energy = Energy.replace(\"...\", np.NAN)\n",
    "    Energy[\"Energy Supply\"]  = Energy[\"Energy Supply\"].astype(np.float16)\n",
    "    Energy[\"Energy Supply\"] = Energy[\"Energy Supply\"] * 1000000\n",
    "    # strip numbers    \n",
    "    cities_w_nums = Energy[\"Country\"].str.contains(\"\\w\\d+\", regex=True)\n",
    "    cities_w_nums__ =  Energy[cities_w_nums][\"Country\"]\n",
    "    for i in range(len(cities_w_nums__)):\n",
    "        Energy[\"Country\"] = Energy[\"Country\"].str.strip(str(i+1))\n",
    "    # rename cities with parenthesis\n",
    "    # cities_w_para = Energy[\"Country\"].str.contains(\"\\w+\\s[*()]\", regex=True)\n",
    "    # cities_w_para__ = Energy[cities_w_para][\"Country\"]\n",
    "    Energy[\"Country\"] = Energy[\"Country\"].str.replace(r'\\s*\\([^)]*\\)', '', regex=True)\n",
    "    # rename some cities\n",
    "    Energy[\"Country\"] = Energy[\"Country\"].str.replace(\"Republic of Korea\", \"South Korea\")\n",
    "    Energy[\"Country\"] = Energy[\"Country\"].str.replace(\"United States of America\", \"United States\")\n",
    "    Energy[\"Country\"] = Energy[\"Country\"].str.replace(\"United Kingdom of Great Britain and Northern Ireland\", \"United Kingdom\")\n",
    "    Energy[\"Country\"] = Energy[\"Country\"].str.replace(\"China, Hong Kong Special Administrative Region\", \"Hong Kong\")\n",
    "    # print(Energy[\"Country\"][16:32])\n",
    "    # World bank\n",
    "    GDP = pd.read_csv(\"assets/world_bank.csv\", skiprows=4)\n",
    "    GDP[\"Country Name\"] = GDP[\"Country Name\"].str.replace(\"Korea, Rep.\", \"South Korea\")\n",
    "    GDP[\"Country Name\"] = GDP[\"Country Name\"].str.replace(\"Iran, Islamic Rep.\", \"Iran\")\n",
    "    GDP = GDP.rename(columns={\"Country Name\": \"Country\"})\n",
    "    \n",
    "    ScimEn = pd.read_excel(\"assets/scimagojr-3.xlsx\")\n",
    "    years_to_delete = [str(i) for i in range(1960, 2006)]\n",
    "    GDP = GDP.drop(years_to_delete, axis=1)\n",
    "    ScimEn = ScimEn[ScimEn[\"Rank\"] <= 15 ]\n",
    "    # print(ScimEn.shape, GDP.shape) #(15, 8), (264, 14)\n",
    "    df = pd.merge(ScimEn, Energy, how=\"inner\", left_on=\"Country\", right_on=\"Country\")\n",
    "    df = pd.merge(df, GDP, how=\"inner\", left_on=\"Country\", right_on=\"Country\")\n",
    "    df = df.set_index(\"Country\")\n",
    "    df = df.drop(columns=[\"Country Code\", \"Indicator Name\", \"Indicator Code\"], axis=1)\n",
    "    return df\n",
    "    \n",
    "    \n",
    "       \n",
    "\n",
    "    # print(Energy_df.head())\n",
    "answer_one()"
   ]
  },
  {
   "cell_type": "code",
   "execution_count": 97,
   "metadata": {
    "deletable": false,
    "editable": false,
    "nbgrader": {
     "cell_type": "code",
     "checksum": "7bcc18b325d2935427ac2566cddd3661",
     "grade": true,
     "grade_id": "cell-780b5a4da845dbc3",
     "locked": true,
     "points": 5,
     "schema_version": 3,
     "solution": false
    },
    "ExecuteTime": {
     "end_time": "2023-12-25T20:51:14.473535Z",
     "start_time": "2023-12-25T20:51:13.969330Z"
    }
   },
   "outputs": [],
   "source": [
    "assert type(answer_one()) == pd.DataFrame, \"Q1: You should return a DataFrame!\"\n",
    "\n",
    "assert answer_one().shape == (15,20), \"Q1: Your DataFrame should have 20 columns and 15 entries!\"\n"
   ]
  },
  {
   "cell_type": "code",
   "execution_count": 98,
   "metadata": {
    "deletable": false,
    "editable": false,
    "nbgrader": {
     "cell_type": "code",
     "checksum": "e241830bcf3f63326b4c9cdf50be8f86",
     "grade": true,
     "grade_id": "cell-74b5f0b971379f64",
     "locked": true,
     "points": 10,
     "schema_version": 3,
     "solution": false
    },
    "ExecuteTime": {
     "end_time": "2023-12-25T20:51:16.523073Z",
     "start_time": "2023-12-25T20:51:16.484720Z"
    }
   },
   "outputs": [],
   "source": [
    "# Cell for autograder.\n"
   ]
  },
  {
   "cell_type": "markdown",
   "metadata": {
    "deletable": false,
    "editable": false,
    "nbgrader": {
     "cell_type": "markdown",
     "checksum": "596280cd22ed98c5540580c62954ec2f",
     "grade": false,
     "grade_id": "cell-babe0ff2a1fc6b17",
     "locked": true,
     "schema_version": 3,
     "solution": false
    }
   },
   "source": [
    "### Question 2\n",
    "The previous question joined three datasets then reduced this to just the top 15 entries. When you joined the datasets, but before you reduced this to the top 15 items, how many entries did you lose?\n",
    "\n",
    "*This function should return a single number.*"
   ]
  },
  {
   "cell_type": "code",
   "execution_count": 49,
   "metadata": {
    "deletable": false,
    "editable": false,
    "nbgrader": {
     "cell_type": "code",
     "checksum": "c9a34da81c80126fd23ae2eac33f98f8",
     "grade": false,
     "grade_id": "cell-96f84e7b693bef63",
     "locked": true,
     "schema_version": 3,
     "solution": false
    },
    "ExecuteTime": {
     "end_time": "2023-12-25T19:44:12.947250Z",
     "start_time": "2023-12-25T19:44:12.920975Z"
    }
   },
   "outputs": [
    {
     "data": {
      "text/plain": "<IPython.core.display.HTML object>",
      "text/html": "<svg width=\"800\" height=\"300\">\n  <circle cx=\"150\" cy=\"180\" r=\"80\" fill-opacity=\"0.2\" stroke=\"black\" stroke-width=\"2\" fill=\"blue\" />\n  <circle cx=\"200\" cy=\"100\" r=\"80\" fill-opacity=\"0.2\" stroke=\"black\" stroke-width=\"2\" fill=\"red\" />\n  <circle cx=\"100\" cy=\"100\" r=\"80\" fill-opacity=\"0.2\" stroke=\"black\" stroke-width=\"2\" fill=\"green\" />\n  <line x1=\"150\" y1=\"125\" x2=\"300\" y2=\"150\" stroke=\"black\" stroke-width=\"2\" fill=\"black\" stroke-dasharray=\"5,3\"/>\n  <text x=\"300\" y=\"165\" font-family=\"Verdana\" font-size=\"35\">Everything but this!</text>\n</svg>\n"
     },
     "metadata": {},
     "output_type": "display_data"
    }
   ],
   "source": [
    "%%HTML\n",
    "<svg width=\"800\" height=\"300\">\n",
    "  <circle cx=\"150\" cy=\"180\" r=\"80\" fill-opacity=\"0.2\" stroke=\"black\" stroke-width=\"2\" fill=\"blue\" />\n",
    "  <circle cx=\"200\" cy=\"100\" r=\"80\" fill-opacity=\"0.2\" stroke=\"black\" stroke-width=\"2\" fill=\"red\" />\n",
    "  <circle cx=\"100\" cy=\"100\" r=\"80\" fill-opacity=\"0.2\" stroke=\"black\" stroke-width=\"2\" fill=\"green\" />\n",
    "  <line x1=\"150\" y1=\"125\" x2=\"300\" y2=\"150\" stroke=\"black\" stroke-width=\"2\" fill=\"black\" stroke-dasharray=\"5,3\"/>\n",
    "  <text x=\"300\" y=\"165\" font-family=\"Verdana\" font-size=\"35\">Everything but this!</text>\n",
    "</svg>"
   ]
  },
  {
   "cell_type": "code",
   "execution_count": 99,
   "metadata": {
    "deletable": false,
    "nbgrader": {
     "cell_type": "code",
     "checksum": "aeeb01fb73054269dd7b818d0945e2f7",
     "grade": false,
     "grade_id": "cell-b0c3202c000aada4",
     "locked": false,
     "schema_version": 3,
     "solution": true
    },
    "ExecuteTime": {
     "end_time": "2023-12-25T20:51:29.864001Z",
     "start_time": "2023-12-25T20:51:29.669944Z"
    }
   },
   "outputs": [
    {
     "data": {
      "text/plain": "291"
     },
     "execution_count": 99,
     "metadata": {},
     "output_type": "execute_result"
    }
   ],
   "source": [
    "def answer_two():\n",
    "    # YOUR CODE HERE\n",
    "    main_df = answer_one()\n",
    "    Energy = pd.read_excel(\"assets/Energy Indicators.xls\", skipfooter=38, skiprows=16)\n",
    "    # drop the first two columns\n",
    "    Energy = Energy.drop([\"Unnamed: 0\", \"Unnamed: 1\"], axis=1)\n",
    "    # rename columns\n",
    "    Energy = Energy.rename(columns={\n",
    "        \"Unnamed: 2\": \"Country\",\n",
    "        \"Energy Supply per capita\":\"Energy Supply per Capita\",\n",
    "        \"Renewable Electricity Production\":\"% Renewable\"})\n",
    "    # convert energy supply to gigajoules: 1 PJ = 1000000 GJ\n",
    "    Energy = Energy.drop(0)\n",
    "    Energy = Energy.replace(\"...\", np.NAN)\n",
    "    Energy[\"Energy Supply\"]  = Energy[\"Energy Supply\"].astype(np.float16)\n",
    "    Energy[\"Energy Supply\"] = Energy[\"Energy Supply\"] * 1000000\n",
    "    # strip numbers    \n",
    "    cities_w_nums = Energy[\"Country\"].str.contains(\"\\w\\d+\", regex=True)\n",
    "    cities_w_nums__ =  Energy[cities_w_nums][\"Country\"]\n",
    "    for i in range(len(cities_w_nums__)):\n",
    "        Energy[\"Country\"] = Energy[\"Country\"].str.strip(str(i+1))\n",
    "    # rename cities with parenthesis\n",
    "    # cities_w_para = Energy[\"Country\"].str.contains(\"\\w+\\s[*()]\", regex=True)\n",
    "    # cities_w_para__ = Energy[cities_w_para][\"Country\"]\n",
    "    Energy[\"Country\"] = Energy[\"Country\"].str.replace(r'\\s*\\([^)]*\\)', '', regex=True)\n",
    "    # rename some cities\n",
    "    Energy[\"Country\"] = Energy[\"Country\"].str.replace(\"Republic of Korea\", \"South Korea\")\n",
    "    Energy[\"Country\"] = Energy[\"Country\"].str.replace(\"United States of America\", \"United States\")\n",
    "    Energy[\"Country\"] = Energy[\"Country\"].str.replace(\"United Kingdom of Great Britain and Northern Ireland\", \"United Kingdom\")\n",
    "    Energy[\"Country\"] = Energy[\"Country\"].str.replace(\"China, Hong Kong Special Administrative Region\", \"Hong Kong\")\n",
    "    # print(Energy[\"Country\"][16:32])\n",
    "    # World bank\n",
    "    GDP = pd.read_csv(\"assets/world_bank.csv\", skiprows=4)\n",
    "    GDP[\"Country Name\"] = GDP[\"Country Name\"].str.replace(\"Korea, Rep.\", \"South Korea\")\n",
    "    GDP[\"Country Name\"] = GDP[\"Country Name\"].str.replace(\"Iran, Islamic Rep.\", \"Iran\")\n",
    "    GDP = GDP.rename(columns={\"Country Name\": \"Country\"})\n",
    "\n",
    "    ScimEn = pd.read_excel(\"assets/scimagojr-3.xlsx\")\n",
    "    years_to_delete = [str(i) for i in range(1960, 2006)]\n",
    "    GDP = GDP.drop(years_to_delete, axis=1)\n",
    "    ScimEn = ScimEn[ScimEn[\"Rank\"] <= 15 ]\n",
    "    # print(ScimEn.shape, GDP.shape) #(15, 8), (264, 14)\n",
    "    df = pd.merge(ScimEn, Energy, how=\"outer\", left_on=\"Country\", right_on=\"Country\")\n",
    "    df = pd.merge(df, GDP, how=\"outer\", left_on=\"Country\", right_on=\"Country\")\n",
    "    df = df.set_index(\"Country\")\n",
    "    df = df.drop(columns=[\"Country Code\", \"Indicator Name\", \"Indicator Code\"], axis=1)\n",
    "    missing_entries = len(df) - len(main_df)\n",
    "    return missing_entries\n",
    "answer_two()\n",
    "    "
   ]
  },
  {
   "cell_type": "code",
   "execution_count": 100,
   "metadata": {
    "deletable": false,
    "editable": false,
    "nbgrader": {
     "cell_type": "code",
     "checksum": "19759b4a6c03f34b647f66d343952619",
     "grade": true,
     "grade_id": "cell-be24cfcaa87ab071",
     "locked": true,
     "points": 6.66,
     "schema_version": 3,
     "solution": false
    },
    "ExecuteTime": {
     "end_time": "2023-12-25T20:51:35.904355Z",
     "start_time": "2023-12-25T20:51:35.713553Z"
    }
   },
   "outputs": [],
   "source": [
    "assert type(answer_two()) == int, \"Q2: You should return an int number!\"\n"
   ]
  },
  {
   "cell_type": "markdown",
   "metadata": {
    "deletable": false,
    "editable": false,
    "nbgrader": {
     "cell_type": "markdown",
     "checksum": "5af1b4f99cd383263130f4c00442a133",
     "grade": false,
     "grade_id": "cell-2e54816014e48c18",
     "locked": true,
     "schema_version": 3,
     "solution": false
    }
   },
   "source": [
    "### Question 3\n",
    "What are the top 15 countries for average GDP over the last 10 years?\n",
    "\n",
    "*This function should return a Series named `avgGDP` with 15 countries and their average GDP sorted in descending order.*"
   ]
  },
  {
   "cell_type": "code",
   "execution_count": 101,
   "metadata": {
    "deletable": false,
    "nbgrader": {
     "cell_type": "code",
     "checksum": "a3490fd71a46cecfa3da698e006fe729",
     "grade": false,
     "grade_id": "cell-8c3d74335c0d489a",
     "locked": false,
     "schema_version": 3,
     "solution": true
    },
    "ExecuteTime": {
     "end_time": "2023-12-25T20:51:43.529398Z",
     "start_time": "2023-12-25T20:51:43.421419Z"
    }
   },
   "outputs": [
    {
     "data": {
      "text/plain": "Country\nUnited States         1.536434e+13\nChina                 6.348609e+12\nJapan                 5.542208e+12\nGermany               3.493025e+12\nFrance                2.681725e+12\nUnited Kingdom        2.487907e+12\nBrazil                2.189794e+12\nItaly                 2.120175e+12\nIndia                 1.769297e+12\nCanada                1.660647e+12\nRussian Federation    1.565459e+12\nSpain                 1.418078e+12\nAustralia             1.164043e+12\nSouth Korea           1.106715e+12\nIran                  4.441558e+11\nName: Avg, dtype: float64"
     },
     "execution_count": 101,
     "metadata": {},
     "output_type": "execute_result"
    }
   ],
   "source": [
    "def answer_three():\n",
    "    # YOUR CODE HERE\n",
    "    df = answer_one()\n",
    "    _10_years = [str(i) for i in range(2006, 2016)]\n",
    "    df[\"Avg\"] = df[_10_years].mean(axis=1)\n",
    "    avgGDP = df.sort_values(by=\"Avg\", ascending=False)[\"Avg\"]\n",
    "    return avgGDP\n",
    "answer_three()"
   ]
  },
  {
   "cell_type": "code",
   "execution_count": 102,
   "metadata": {
    "deletable": false,
    "editable": false,
    "nbgrader": {
     "cell_type": "code",
     "checksum": "2f9c90ee07138f94c027c5d2f907ab13",
     "grade": true,
     "grade_id": "cell-aaaa11ef7d26f4cf",
     "locked": true,
     "points": 6.66,
     "schema_version": 3,
     "solution": false
    },
    "ExecuteTime": {
     "end_time": "2023-12-25T20:51:45.559537Z",
     "start_time": "2023-12-25T20:51:45.473334Z"
    }
   },
   "outputs": [],
   "source": [
    "assert type(answer_three()) == pd.Series, \"Q3: You should return a Series!\"\n"
   ]
  },
  {
   "cell_type": "markdown",
   "metadata": {},
   "source": [
    "### Question 4\n",
    "By how much had the GDP changed over the 10 year span for the country with the 6th largest average GDP?\n",
    "\n",
    "*This function should return a single number.*"
   ]
  },
  {
   "cell_type": "code",
   "execution_count": 103,
   "metadata": {
    "deletable": false,
    "nbgrader": {
     "cell_type": "code",
     "checksum": "768a19bcc8adc6991fe5c757e95ba784",
     "grade": false,
     "grade_id": "cell-7f77d099e3e0bbee",
     "locked": false,
     "schema_version": 3,
     "solution": true
    },
    "ExecuteTime": {
     "end_time": "2023-12-25T20:51:47.724334Z",
     "start_time": "2023-12-25T20:51:47.607969Z"
    }
   },
   "outputs": [
    {
     "data": {
      "text/plain": "                    Rank  Documents  Citable documents  Citations  \\\nCountry                                                             \nChina                  1     127050             126767     597237   \nUnited States          2      96661              94747     792274   \nJapan                  3      30504              30287     223024   \nUnited Kingdom         4      20944              20357     206091   \nRussian Federation     5      18534              18301      34266   \nCanada                 6      17899              17620     215003   \nGermany                7      17027              16831     140566   \nIndia                  8      15005              14841     128763   \nFrance                 9      13153              12973     130632   \nSouth Korea           10      11983              11923     114675   \nItaly                 11      10964              10794     111850   \nSpain                 12       9428               9330     123336   \nIran                  13       8896               8819      57470   \nAustralia             14       8831               8725      90765   \nBrazil                15       8668               8596      60702   \n\n                    Self-citations  Citations per document  H index  \\\nCountry                                                               \nChina                       411683                    4.70      138   \nUnited States               265436                    8.20      230   \nJapan                        61554                    7.31      134   \nUnited Kingdom               37874                    9.84      139   \nRussian Federation           12422                    1.85       57   \nCanada                       40930                   12.01      149   \nGermany                      27426                    8.26      126   \nIndia                        37209                    8.58      115   \nFrance                       28601                    9.93      114   \nSouth Korea                  22595                    9.57      104   \nItaly                        26661                   10.20      106   \nSpain                        23964                   13.08      115   \nIran                         19125                    6.46       72   \nAustralia                    15606                   10.28      107   \nBrazil                       14396                    7.00       86   \n\n                    Energy Supply  Energy Supply per Capita  % Renewable  \\\nCountry                                                                    \nChina                         inf                      93.0    19.754910   \nUnited States                 inf                     286.0    11.570980   \nJapan                1.897600e+10                     149.0    10.232820   \nUnited Kingdom       7.920000e+09                     124.0    10.600470   \nRussian Federation   3.070400e+10                     214.0    17.288680   \nCanada               1.043200e+10                     296.0    61.945430   \nGermany              1.326400e+10                     165.0    17.901530   \nIndia                3.318400e+10                      26.0    14.969080   \nFrance               1.060000e+10                     166.0    17.020280   \nSouth Korea          1.100800e+10                     221.0     2.279353   \nItaly                6.528000e+09                     109.0    33.667230   \nSpain                4.924000e+09                     106.0    37.968590   \nIran                 9.168000e+09                     119.0     5.707721   \nAustralia            5.384000e+09                     231.0    11.810810   \nBrazil               1.215200e+10                      59.0    69.648030   \n\n                            2006          2007          2008          2009  \\\nCountry                                                                      \nChina               3.992331e+12  4.559041e+12  4.997775e+12  5.459247e+12   \nUnited States       1.479230e+13  1.505540e+13  1.501149e+13  1.459484e+13   \nJapan               5.496542e+12  5.617036e+12  5.558527e+12  5.251308e+12   \nUnited Kingdom      2.419631e+12  2.482203e+12  2.470614e+12  2.367048e+12   \nRussian Federation  1.385793e+12  1.504071e+12  1.583004e+12  1.459199e+12   \nCanada              1.564469e+12  1.596740e+12  1.612713e+12  1.565145e+12   \nGermany             3.332891e+12  3.441561e+12  3.478809e+12  3.283340e+12   \nIndia               1.265894e+12  1.374865e+12  1.428361e+12  1.549483e+12   \nFrance              2.607840e+12  2.669424e+12  2.674637e+12  2.595967e+12   \nSouth Korea         9.410199e+11  9.924316e+11  1.020510e+12  1.027730e+12   \nItaly               2.202170e+12  2.234627e+12  2.211154e+12  2.089938e+12   \nSpain               1.414823e+12  1.468146e+12  1.484530e+12  1.431475e+12   \nIran                3.895523e+11  4.250646e+11  4.289909e+11  4.389208e+11   \nAustralia           1.021939e+12  1.060340e+12  1.099644e+12  1.119654e+12   \nBrazil              1.845080e+12  1.957118e+12  2.056809e+12  2.054215e+12   \n\n                            2010          2011          2012          2013  \\\nCountry                                                                      \nChina               6.039659e+12  6.612490e+12  7.124978e+12  7.672448e+12   \nUnited States       1.496437e+13  1.520402e+13  1.554216e+13  1.577367e+13   \nJapan               5.498718e+12  5.473738e+12  5.569102e+12  5.644659e+12   \nUnited Kingdom      2.403504e+12  2.450911e+12  2.479809e+12  2.533370e+12   \nRussian Federation  1.524917e+12  1.589943e+12  1.645876e+12  1.666934e+12   \nCanada              1.613406e+12  1.664087e+12  1.693133e+12  1.730688e+12   \nGermany             3.417298e+12  3.542371e+12  3.556724e+12  3.567317e+12   \nIndia               1.708459e+12  1.821872e+12  1.924235e+12  2.051982e+12   \nFrance              2.646995e+12  2.702032e+12  2.706968e+12  2.722567e+12   \nSouth Korea         1.094499e+12  1.134796e+12  1.160809e+12  1.194429e+12   \nItaly               2.125185e+12  2.137439e+12  2.077184e+12  2.040871e+12   \nSpain               1.431673e+12  1.417355e+12  1.380216e+12  1.357139e+12   \nIran                4.677902e+11  4.853309e+11  4.532569e+11  4.445926e+11   \nAustralia           1.142251e+12  1.169431e+12  1.211913e+12  1.241484e+12   \nBrazil              2.208872e+12  2.295245e+12  2.339209e+12  2.409740e+12   \n\n                            2014          2015  \nCountry                                         \nChina               8.230121e+12  8.797999e+12  \nUnited States       1.615662e+13  1.654857e+13  \nJapan               5.642884e+12  5.669563e+12  \nUnited Kingdom      2.605643e+12  2.666333e+12  \nRussian Federation  1.678709e+12  1.616149e+12  \nCanada              1.773486e+12  1.792609e+12  \nGermany             3.624386e+12  3.685556e+12  \nIndia               2.200617e+12  2.367206e+12  \nFrance              2.729632e+12  2.761185e+12  \nSouth Korea         1.234340e+12  1.266580e+12  \nItaly               2.033868e+12  2.049316e+12  \nSpain               1.375605e+12  1.419821e+12  \nIran                4.639027e+11           NaN  \nAustralia           1.272520e+12  1.301251e+12  \nBrazil              2.412231e+12  2.319423e+12  ",
      "text/html": "<div>\n<style scoped>\n    .dataframe tbody tr th:only-of-type {\n        vertical-align: middle;\n    }\n\n    .dataframe tbody tr th {\n        vertical-align: top;\n    }\n\n    .dataframe thead th {\n        text-align: right;\n    }\n</style>\n<table border=\"1\" class=\"dataframe\">\n  <thead>\n    <tr style=\"text-align: right;\">\n      <th></th>\n      <th>Rank</th>\n      <th>Documents</th>\n      <th>Citable documents</th>\n      <th>Citations</th>\n      <th>Self-citations</th>\n      <th>Citations per document</th>\n      <th>H index</th>\n      <th>Energy Supply</th>\n      <th>Energy Supply per Capita</th>\n      <th>% Renewable</th>\n      <th>2006</th>\n      <th>2007</th>\n      <th>2008</th>\n      <th>2009</th>\n      <th>2010</th>\n      <th>2011</th>\n      <th>2012</th>\n      <th>2013</th>\n      <th>2014</th>\n      <th>2015</th>\n    </tr>\n    <tr>\n      <th>Country</th>\n      <th></th>\n      <th></th>\n      <th></th>\n      <th></th>\n      <th></th>\n      <th></th>\n      <th></th>\n      <th></th>\n      <th></th>\n      <th></th>\n      <th></th>\n      <th></th>\n      <th></th>\n      <th></th>\n      <th></th>\n      <th></th>\n      <th></th>\n      <th></th>\n      <th></th>\n      <th></th>\n    </tr>\n  </thead>\n  <tbody>\n    <tr>\n      <th>China</th>\n      <td>1</td>\n      <td>127050</td>\n      <td>126767</td>\n      <td>597237</td>\n      <td>411683</td>\n      <td>4.70</td>\n      <td>138</td>\n      <td>inf</td>\n      <td>93.0</td>\n      <td>19.754910</td>\n      <td>3.992331e+12</td>\n      <td>4.559041e+12</td>\n      <td>4.997775e+12</td>\n      <td>5.459247e+12</td>\n      <td>6.039659e+12</td>\n      <td>6.612490e+12</td>\n      <td>7.124978e+12</td>\n      <td>7.672448e+12</td>\n      <td>8.230121e+12</td>\n      <td>8.797999e+12</td>\n    </tr>\n    <tr>\n      <th>United States</th>\n      <td>2</td>\n      <td>96661</td>\n      <td>94747</td>\n      <td>792274</td>\n      <td>265436</td>\n      <td>8.20</td>\n      <td>230</td>\n      <td>inf</td>\n      <td>286.0</td>\n      <td>11.570980</td>\n      <td>1.479230e+13</td>\n      <td>1.505540e+13</td>\n      <td>1.501149e+13</td>\n      <td>1.459484e+13</td>\n      <td>1.496437e+13</td>\n      <td>1.520402e+13</td>\n      <td>1.554216e+13</td>\n      <td>1.577367e+13</td>\n      <td>1.615662e+13</td>\n      <td>1.654857e+13</td>\n    </tr>\n    <tr>\n      <th>Japan</th>\n      <td>3</td>\n      <td>30504</td>\n      <td>30287</td>\n      <td>223024</td>\n      <td>61554</td>\n      <td>7.31</td>\n      <td>134</td>\n      <td>1.897600e+10</td>\n      <td>149.0</td>\n      <td>10.232820</td>\n      <td>5.496542e+12</td>\n      <td>5.617036e+12</td>\n      <td>5.558527e+12</td>\n      <td>5.251308e+12</td>\n      <td>5.498718e+12</td>\n      <td>5.473738e+12</td>\n      <td>5.569102e+12</td>\n      <td>5.644659e+12</td>\n      <td>5.642884e+12</td>\n      <td>5.669563e+12</td>\n    </tr>\n    <tr>\n      <th>United Kingdom</th>\n      <td>4</td>\n      <td>20944</td>\n      <td>20357</td>\n      <td>206091</td>\n      <td>37874</td>\n      <td>9.84</td>\n      <td>139</td>\n      <td>7.920000e+09</td>\n      <td>124.0</td>\n      <td>10.600470</td>\n      <td>2.419631e+12</td>\n      <td>2.482203e+12</td>\n      <td>2.470614e+12</td>\n      <td>2.367048e+12</td>\n      <td>2.403504e+12</td>\n      <td>2.450911e+12</td>\n      <td>2.479809e+12</td>\n      <td>2.533370e+12</td>\n      <td>2.605643e+12</td>\n      <td>2.666333e+12</td>\n    </tr>\n    <tr>\n      <th>Russian Federation</th>\n      <td>5</td>\n      <td>18534</td>\n      <td>18301</td>\n      <td>34266</td>\n      <td>12422</td>\n      <td>1.85</td>\n      <td>57</td>\n      <td>3.070400e+10</td>\n      <td>214.0</td>\n      <td>17.288680</td>\n      <td>1.385793e+12</td>\n      <td>1.504071e+12</td>\n      <td>1.583004e+12</td>\n      <td>1.459199e+12</td>\n      <td>1.524917e+12</td>\n      <td>1.589943e+12</td>\n      <td>1.645876e+12</td>\n      <td>1.666934e+12</td>\n      <td>1.678709e+12</td>\n      <td>1.616149e+12</td>\n    </tr>\n    <tr>\n      <th>Canada</th>\n      <td>6</td>\n      <td>17899</td>\n      <td>17620</td>\n      <td>215003</td>\n      <td>40930</td>\n      <td>12.01</td>\n      <td>149</td>\n      <td>1.043200e+10</td>\n      <td>296.0</td>\n      <td>61.945430</td>\n      <td>1.564469e+12</td>\n      <td>1.596740e+12</td>\n      <td>1.612713e+12</td>\n      <td>1.565145e+12</td>\n      <td>1.613406e+12</td>\n      <td>1.664087e+12</td>\n      <td>1.693133e+12</td>\n      <td>1.730688e+12</td>\n      <td>1.773486e+12</td>\n      <td>1.792609e+12</td>\n    </tr>\n    <tr>\n      <th>Germany</th>\n      <td>7</td>\n      <td>17027</td>\n      <td>16831</td>\n      <td>140566</td>\n      <td>27426</td>\n      <td>8.26</td>\n      <td>126</td>\n      <td>1.326400e+10</td>\n      <td>165.0</td>\n      <td>17.901530</td>\n      <td>3.332891e+12</td>\n      <td>3.441561e+12</td>\n      <td>3.478809e+12</td>\n      <td>3.283340e+12</td>\n      <td>3.417298e+12</td>\n      <td>3.542371e+12</td>\n      <td>3.556724e+12</td>\n      <td>3.567317e+12</td>\n      <td>3.624386e+12</td>\n      <td>3.685556e+12</td>\n    </tr>\n    <tr>\n      <th>India</th>\n      <td>8</td>\n      <td>15005</td>\n      <td>14841</td>\n      <td>128763</td>\n      <td>37209</td>\n      <td>8.58</td>\n      <td>115</td>\n      <td>3.318400e+10</td>\n      <td>26.0</td>\n      <td>14.969080</td>\n      <td>1.265894e+12</td>\n      <td>1.374865e+12</td>\n      <td>1.428361e+12</td>\n      <td>1.549483e+12</td>\n      <td>1.708459e+12</td>\n      <td>1.821872e+12</td>\n      <td>1.924235e+12</td>\n      <td>2.051982e+12</td>\n      <td>2.200617e+12</td>\n      <td>2.367206e+12</td>\n    </tr>\n    <tr>\n      <th>France</th>\n      <td>9</td>\n      <td>13153</td>\n      <td>12973</td>\n      <td>130632</td>\n      <td>28601</td>\n      <td>9.93</td>\n      <td>114</td>\n      <td>1.060000e+10</td>\n      <td>166.0</td>\n      <td>17.020280</td>\n      <td>2.607840e+12</td>\n      <td>2.669424e+12</td>\n      <td>2.674637e+12</td>\n      <td>2.595967e+12</td>\n      <td>2.646995e+12</td>\n      <td>2.702032e+12</td>\n      <td>2.706968e+12</td>\n      <td>2.722567e+12</td>\n      <td>2.729632e+12</td>\n      <td>2.761185e+12</td>\n    </tr>\n    <tr>\n      <th>South Korea</th>\n      <td>10</td>\n      <td>11983</td>\n      <td>11923</td>\n      <td>114675</td>\n      <td>22595</td>\n      <td>9.57</td>\n      <td>104</td>\n      <td>1.100800e+10</td>\n      <td>221.0</td>\n      <td>2.279353</td>\n      <td>9.410199e+11</td>\n      <td>9.924316e+11</td>\n      <td>1.020510e+12</td>\n      <td>1.027730e+12</td>\n      <td>1.094499e+12</td>\n      <td>1.134796e+12</td>\n      <td>1.160809e+12</td>\n      <td>1.194429e+12</td>\n      <td>1.234340e+12</td>\n      <td>1.266580e+12</td>\n    </tr>\n    <tr>\n      <th>Italy</th>\n      <td>11</td>\n      <td>10964</td>\n      <td>10794</td>\n      <td>111850</td>\n      <td>26661</td>\n      <td>10.20</td>\n      <td>106</td>\n      <td>6.528000e+09</td>\n      <td>109.0</td>\n      <td>33.667230</td>\n      <td>2.202170e+12</td>\n      <td>2.234627e+12</td>\n      <td>2.211154e+12</td>\n      <td>2.089938e+12</td>\n      <td>2.125185e+12</td>\n      <td>2.137439e+12</td>\n      <td>2.077184e+12</td>\n      <td>2.040871e+12</td>\n      <td>2.033868e+12</td>\n      <td>2.049316e+12</td>\n    </tr>\n    <tr>\n      <th>Spain</th>\n      <td>12</td>\n      <td>9428</td>\n      <td>9330</td>\n      <td>123336</td>\n      <td>23964</td>\n      <td>13.08</td>\n      <td>115</td>\n      <td>4.924000e+09</td>\n      <td>106.0</td>\n      <td>37.968590</td>\n      <td>1.414823e+12</td>\n      <td>1.468146e+12</td>\n      <td>1.484530e+12</td>\n      <td>1.431475e+12</td>\n      <td>1.431673e+12</td>\n      <td>1.417355e+12</td>\n      <td>1.380216e+12</td>\n      <td>1.357139e+12</td>\n      <td>1.375605e+12</td>\n      <td>1.419821e+12</td>\n    </tr>\n    <tr>\n      <th>Iran</th>\n      <td>13</td>\n      <td>8896</td>\n      <td>8819</td>\n      <td>57470</td>\n      <td>19125</td>\n      <td>6.46</td>\n      <td>72</td>\n      <td>9.168000e+09</td>\n      <td>119.0</td>\n      <td>5.707721</td>\n      <td>3.895523e+11</td>\n      <td>4.250646e+11</td>\n      <td>4.289909e+11</td>\n      <td>4.389208e+11</td>\n      <td>4.677902e+11</td>\n      <td>4.853309e+11</td>\n      <td>4.532569e+11</td>\n      <td>4.445926e+11</td>\n      <td>4.639027e+11</td>\n      <td>NaN</td>\n    </tr>\n    <tr>\n      <th>Australia</th>\n      <td>14</td>\n      <td>8831</td>\n      <td>8725</td>\n      <td>90765</td>\n      <td>15606</td>\n      <td>10.28</td>\n      <td>107</td>\n      <td>5.384000e+09</td>\n      <td>231.0</td>\n      <td>11.810810</td>\n      <td>1.021939e+12</td>\n      <td>1.060340e+12</td>\n      <td>1.099644e+12</td>\n      <td>1.119654e+12</td>\n      <td>1.142251e+12</td>\n      <td>1.169431e+12</td>\n      <td>1.211913e+12</td>\n      <td>1.241484e+12</td>\n      <td>1.272520e+12</td>\n      <td>1.301251e+12</td>\n    </tr>\n    <tr>\n      <th>Brazil</th>\n      <td>15</td>\n      <td>8668</td>\n      <td>8596</td>\n      <td>60702</td>\n      <td>14396</td>\n      <td>7.00</td>\n      <td>86</td>\n      <td>1.215200e+10</td>\n      <td>59.0</td>\n      <td>69.648030</td>\n      <td>1.845080e+12</td>\n      <td>1.957118e+12</td>\n      <td>2.056809e+12</td>\n      <td>2.054215e+12</td>\n      <td>2.208872e+12</td>\n      <td>2.295245e+12</td>\n      <td>2.339209e+12</td>\n      <td>2.409740e+12</td>\n      <td>2.412231e+12</td>\n      <td>2.319423e+12</td>\n    </tr>\n  </tbody>\n</table>\n</div>"
     },
     "execution_count": 103,
     "metadata": {},
     "output_type": "execute_result"
    }
   ],
   "source": [
    "def answer_four():\n",
    "    # YOUR CODE HERE\n",
    "    avgGDP = answer_three()\n",
    "    target_index = avgGDP.index(5)\n",
    "    target_country = avgGDP.loc[target_index]\n",
    "    change = target_country[\"2015\"] - target_country[\"2006\"]\n",
    "    return change\n",
    "answer_one()"
   ]
  },
  {
   "cell_type": "code",
   "execution_count": 104,
   "metadata": {
    "deletable": false,
    "editable": false,
    "nbgrader": {
     "cell_type": "code",
     "checksum": "a7770c49cdfac4fa6368dfe8b39e6474",
     "grade": true,
     "grade_id": "cell-564dd8e5e24b0f83",
     "locked": true,
     "points": 6.66,
     "schema_version": 3,
     "solution": false
    },
    "ExecuteTime": {
     "end_time": "2023-12-25T20:51:53.214380Z",
     "start_time": "2023-12-25T20:51:53.190552Z"
    }
   },
   "outputs": [],
   "source": [
    "# Cell for autograder.\n"
   ]
  },
  {
   "cell_type": "markdown",
   "metadata": {
    "deletable": false,
    "editable": false,
    "nbgrader": {
     "cell_type": "markdown",
     "checksum": "ed6dbc94ff1b6268873413fee12741cd",
     "grade": false,
     "grade_id": "cell-617669111e38ca15",
     "locked": true,
     "schema_version": 3,
     "solution": false
    }
   },
   "source": [
    "### Question 5\n",
    "What is the mean energy supply per capita?\n",
    "\n",
    "*This function should return a single number.*"
   ]
  },
  {
   "cell_type": "code",
   "execution_count": 105,
   "metadata": {
    "deletable": false,
    "nbgrader": {
     "cell_type": "code",
     "checksum": "cfd61a1735889e7ef20692ca0d28ddcb",
     "grade": false,
     "grade_id": "cell-58e79d558e982eef",
     "locked": false,
     "schema_version": 3,
     "solution": true
    },
    "ExecuteTime": {
     "end_time": "2023-12-25T20:52:01.157266Z",
     "start_time": "2023-12-25T20:52:01.061390Z"
    }
   },
   "outputs": [
    {
     "data": {
      "text/plain": "157.6"
     },
     "execution_count": 105,
     "metadata": {},
     "output_type": "execute_result"
    }
   ],
   "source": [
    "def answer_five():\n",
    "    # YOUR CODE HERE\n",
    "    df = answer_one()\n",
    "    mean_energy_supply_perCapita = df[\"Energy Supply per Capita\"].mean()\n",
    "    return mean_energy_supply_perCapita\n",
    "answer_five()\n",
    "    "
   ]
  },
  {
   "cell_type": "code",
   "execution_count": 106,
   "metadata": {
    "deletable": false,
    "editable": false,
    "nbgrader": {
     "cell_type": "code",
     "checksum": "9d61bf22656baeecc77f63d54448590e",
     "grade": true,
     "grade_id": "cell-30cc66180851638c",
     "locked": true,
     "points": 6.66,
     "schema_version": 3,
     "solution": false
    },
    "ExecuteTime": {
     "end_time": "2023-12-25T20:52:05.688717Z",
     "start_time": "2023-12-25T20:52:05.667662Z"
    }
   },
   "outputs": [],
   "source": [
    "# Cell for autograder.\n"
   ]
  },
  {
   "cell_type": "markdown",
   "metadata": {
    "deletable": false,
    "editable": false,
    "nbgrader": {
     "cell_type": "markdown",
     "checksum": "2c7a163ae96f56317756456b0d9d695b",
     "grade": false,
     "grade_id": "cell-5c11ddd12fd71b3f",
     "locked": true,
     "schema_version": 3,
     "solution": false
    }
   },
   "source": [
    "### Question 6\n",
    "What country has the maximum % Renewable and what is the percentage?\n",
    "\n",
    "*This function should return a tuple with the name of the country and the percentage.*"
   ]
  },
  {
   "cell_type": "code",
   "execution_count": 107,
   "metadata": {
    "deletable": false,
    "nbgrader": {
     "cell_type": "code",
     "checksum": "f8657f18c77eb0f752bca3cc48561da3",
     "grade": false,
     "grade_id": "cell-b6824b78e74619f9",
     "locked": false,
     "schema_version": 3,
     "solution": true
    },
    "ExecuteTime": {
     "end_time": "2023-12-25T20:52:11.225341Z",
     "start_time": "2023-12-25T20:52:11.131407Z"
    }
   },
   "outputs": [
    {
     "data": {
      "text/plain": "('Brazil', 69.64803)"
     },
     "execution_count": 107,
     "metadata": {},
     "output_type": "execute_result"
    }
   ],
   "source": [
    "def answer_six():\n",
    "    # YOUR CODE HERE\n",
    "    df = answer_one()\n",
    "    max_renewable = df.groupby(\"Country\")[\"% Renewable\"].max().sort_values(ascending=False)\n",
    "    max_renewable =  max_renewable.nlargest(1)\n",
    "    country =  max_renewable.index[0]\n",
    "    renewable_per = max_renewable[0]\n",
    "    return (country, renewable_per)\n",
    "answer_six()\n",
    "    "
   ]
  },
  {
   "cell_type": "code",
   "execution_count": 108,
   "metadata": {
    "deletable": false,
    "editable": false,
    "nbgrader": {
     "cell_type": "code",
     "checksum": "f8b28b0a824a3b76a6244c1273648ccd",
     "grade": true,
     "grade_id": "cell-2bd201c5c7bdd80f",
     "locked": true,
     "points": 6.66,
     "schema_version": 3,
     "solution": false
    },
    "ExecuteTime": {
     "end_time": "2023-12-25T20:52:15.097589Z",
     "start_time": "2023-12-25T20:52:14.904137Z"
    }
   },
   "outputs": [],
   "source": [
    "assert type(answer_six()) == tuple, \"Q6: You should return a tuple!\"\n",
    "\n",
    "assert type(answer_six()[0]) == str, \"Q6: The first element in your result should be the name of the country!\"\n"
   ]
  },
  {
   "cell_type": "markdown",
   "metadata": {
    "deletable": false,
    "editable": false,
    "nbgrader": {
     "cell_type": "markdown",
     "checksum": "a7b561a486a28ee4ba80a40715617c6d",
     "grade": false,
     "grade_id": "cell-ddf52a85ad3d5a11",
     "locked": true,
     "schema_version": 3,
     "solution": false
    }
   },
   "source": [
    "### Question 7\n",
    "Create a new column that is the ratio of Self-Citations to Total Citations. \n",
    "What is the maximum value for this new column, and what country has the highest ratio?\n",
    "\n",
    "*This function should return a tuple with the name of the country and the ratio.*"
   ]
  },
  {
   "cell_type": "code",
   "execution_count": 109,
   "metadata": {
    "deletable": false,
    "nbgrader": {
     "cell_type": "code",
     "checksum": "e4b1cc5e3deefd24be992fbee18d0e74",
     "grade": false,
     "grade_id": "cell-a4f39737f38aa53c",
     "locked": false,
     "schema_version": 3,
     "solution": true
    },
    "ExecuteTime": {
     "end_time": "2023-12-25T20:52:22.743437Z",
     "start_time": "2023-12-25T20:52:22.679323Z"
    }
   },
   "outputs": [
    {
     "data": {
      "text/plain": "('China', 0.6893126179389422)"
     },
     "execution_count": 109,
     "metadata": {},
     "output_type": "execute_result"
    }
   ],
   "source": [
    "def answer_seven():\n",
    "    # YOUR CODE HERE\n",
    "    df = answer_one()\n",
    "    df[\"Ratio Citations\"] = df[\"Self-citations\"] / df[\"Citations\"]\n",
    "    max_ratio_citations = df.groupby(\"Country\")[\"Ratio Citations\"].max()\n",
    "    max_ratio_citations = max_ratio_citations.nlargest(1)\n",
    "    country = max_ratio_citations.index[0]\n",
    "    max_ratio = max_ratio_citations[0]\n",
    "    return (country, max_ratio)\n",
    "answer_seven()"
   ]
  },
  {
   "cell_type": "code",
   "execution_count": 110,
   "metadata": {
    "deletable": false,
    "editable": false,
    "nbgrader": {
     "cell_type": "code",
     "checksum": "ca448b3a16b65a3a08533cac736cc4d9",
     "grade": true,
     "grade_id": "cell-b7a163e9231b88c9",
     "locked": true,
     "points": 6.66,
     "schema_version": 3,
     "solution": false
    },
    "ExecuteTime": {
     "end_time": "2023-12-25T20:52:25.391699Z",
     "start_time": "2023-12-25T20:52:25.207300Z"
    }
   },
   "outputs": [],
   "source": [
    "assert type(answer_seven()) == tuple, \"Q7: You should return a tuple!\"\n",
    "\n",
    "assert type(answer_seven()[0]) == str, \"Q7: The first element in your result should be the name of the country!\"\n"
   ]
  },
  {
   "cell_type": "markdown",
   "metadata": {
    "deletable": false,
    "editable": false,
    "nbgrader": {
     "cell_type": "markdown",
     "checksum": "7be7b86ee7467539dd88746818c78c0e",
     "grade": false,
     "grade_id": "cell-5c89296ab6f94218",
     "locked": true,
     "schema_version": 3,
     "solution": false
    }
   },
   "source": [
    "### Question 8\n",
    "\n",
    "Create a column that estimates the population using Energy Supply and Energy Supply per capita. \n",
    "What is the third most populous country according to this estimate?\n",
    "\n",
    "*This function should return the name of the country*"
   ]
  },
  {
   "cell_type": "code",
   "execution_count": 111,
   "metadata": {
    "deletable": false,
    "nbgrader": {
     "cell_type": "code",
     "checksum": "9d733b2abf089b1931e2e792ff51d488",
     "grade": false,
     "grade_id": "cell-9ca58137846b84d6",
     "locked": false,
     "schema_version": 3,
     "solution": true
    },
    "ExecuteTime": {
     "end_time": "2023-12-25T20:52:38.025214Z",
     "start_time": "2023-12-25T20:52:37.930683Z"
    }
   },
   "outputs": [
    {
     "data": {
      "text/plain": "'India'"
     },
     "execution_count": 111,
     "metadata": {},
     "output_type": "execute_result"
    }
   ],
   "source": [
    "def answer_eight():\n",
    "    # YOUR CODE HERE\n",
    "    df = answer_one()\n",
    "    energy = [\"Energy Supply per Capita\", \"Energy Supply\"]\n",
    "    capita = df[energy]\n",
    "    capita[\"Capita\"] = df[\"Energy Supply\"] / df[\"Energy Supply per Capita\"]\n",
    "    Capita = capita.sort_values(by=\"Capita\", ascending=False)\n",
    "    Capita = Capita.iloc[2].name\n",
    "    return Capita\n",
    "answer_eight()\n",
    "    \n",
    "    "
   ]
  },
  {
   "cell_type": "code",
   "execution_count": 112,
   "metadata": {
    "deletable": false,
    "editable": false,
    "nbgrader": {
     "cell_type": "code",
     "checksum": "ba2ad50cf8198767b0bd2f75b8d97e87",
     "grade": true,
     "grade_id": "cell-3f3620c88df08b20",
     "locked": true,
     "points": 0,
     "schema_version": 3,
     "solution": false
    },
    "ExecuteTime": {
     "end_time": "2023-12-25T20:52:39.512173Z",
     "start_time": "2023-12-25T20:52:39.425387Z"
    }
   },
   "outputs": [],
   "source": [
    "assert type(answer_eight()) == str, \"Q8: You should return the name of the country!\"\n"
   ]
  },
  {
   "cell_type": "markdown",
   "metadata": {
    "deletable": false,
    "editable": false,
    "nbgrader": {
     "cell_type": "markdown",
     "checksum": "164cba98164a1045db7de10dd37115c8",
     "grade": false,
     "grade_id": "cell-2065207e66e5ec01",
     "locked": true,
     "schema_version": 3,
     "solution": false
    }
   },
   "source": [
    "### Question 9\n",
    "Create a column that estimates the number of citable documents per person. \n",
    "What is the correlation between the number of citable documents per capita and the energy supply per capita? Use the `.corr()` method, (Pearson's correlation).\n",
    "\n",
    "*This function should return a single number.*\n",
    "\n",
    "*(Optional: Use the built-in function `plot9()` to visualize the relationship between Energy Supply per Capita vs. Citable docs per Capita)*"
   ]
  },
  {
   "cell_type": "code",
   "execution_count": 115,
   "metadata": {
    "deletable": false,
    "nbgrader": {
     "cell_type": "code",
     "checksum": "94e06c4c3a9618b94dbb0e86913b546c",
     "grade": false,
     "grade_id": "cell-033679ea456bfb9d",
     "locked": false,
     "schema_version": 3,
     "solution": true
    },
    "ExecuteTime": {
     "end_time": "2023-12-25T20:53:02.580501Z",
     "start_time": "2023-12-25T20:53:02.468382Z"
    }
   },
   "outputs": [
    {
     "data": {
      "text/plain": "0.5075515508095354"
     },
     "execution_count": 115,
     "metadata": {},
     "output_type": "execute_result"
    }
   ],
   "source": [
    "def answer_nine():\n",
    "    # YOUR CODE HERE\n",
    "    df = answer_one()\n",
    "    df[\"Capita\"] = df[\"Energy Supply\"] / df[\"Energy Supply per Capita\"]\n",
    "    df[\"Citable per Capita\"] = df[\"Citable documents\"] / df[\"Capita\"]\n",
    "    corr_ = df[\"Citable per Capita\"].corr(df[\"Energy Supply per Capita\"])\n",
    "    return corr_\n",
    "answer_nine()\n",
    "    "
   ]
  },
  {
   "cell_type": "code",
   "execution_count": 116,
   "metadata": {
    "deletable": false,
    "editable": false,
    "nbgrader": {
     "cell_type": "code",
     "checksum": "01a146bbcca0fa9c9c13e71ab52e710f",
     "grade": false,
     "grade_id": "cell-644824f6c708bf80",
     "locked": true,
     "schema_version": 3,
     "solution": false
    },
    "ExecuteTime": {
     "end_time": "2023-12-25T20:53:04.248463Z",
     "start_time": "2023-12-25T20:53:03.908738Z"
    }
   },
   "outputs": [
    {
     "data": {
      "text/plain": "<Figure size 640x480 with 1 Axes>",
      "image/png": "[encoded data removed]"
     },
     "metadata": {},
     "output_type": "display_data"
    }
   ],
   "source": [
    "def plot9():\n",
    "    import matplotlib as plt\n",
    "    %matplotlib inline\n",
    "    \n",
    "    Top15 = answer_one()\n",
    "    Top15['PopEst'] = Top15['Energy Supply'] / Top15['Energy Supply per Capita']\n",
    "    Top15['Citable docs per Capita'] = Top15['Citable documents'] / Top15['PopEst']\n",
    "    Top15.plot(x='Citable docs per Capita', y='Energy Supply per Capita', kind='scatter', xlim=[0, 0.0006])\n",
    "plot9()"
   ]
  },
  {
   "cell_type": "code",
   "execution_count": 117,
   "metadata": {
    "deletable": false,
    "editable": false,
    "nbgrader": {
     "cell_type": "code",
     "checksum": "8dced1dde88b6877f89bdec482870476",
     "grade": true,
     "grade_id": "cell-3cb5c699065a4a20",
     "locked": true,
     "points": 6.66,
     "schema_version": 3,
     "solution": false
    },
    "ExecuteTime": {
     "end_time": "2023-12-25T20:53:37.039962Z",
     "start_time": "2023-12-25T20:53:36.857006Z"
    }
   },
   "outputs": [],
   "source": [
    "assert answer_nine() >= -1. and answer_nine() <= 1., \"Q9: A valid correlation should between -1 to 1!\"\n"
   ]
  },
  {
   "cell_type": "markdown",
   "metadata": {
    "deletable": false,
    "editable": false,
    "nbgrader": {
     "cell_type": "markdown",
     "checksum": "8af5ffad89be1e5c6292438724d6f8d5",
     "grade": false,
     "grade_id": "cell-ad09765e29b91157",
     "locked": true,
     "schema_version": 3,
     "solution": false
    }
   },
   "source": [
    "### Question 10\n",
    "Create a new column with a 1 if the country's % Renewable value is at or above the median for all countries in the top 15, and a 0 if the country's % Renewable value is below the median.\n",
    "\n",
    "*This function should return a series named `HighRenew` whose index is the country name sorted in ascending order of rank.*"
   ]
  },
  {
   "cell_type": "code",
   "execution_count": 118,
   "metadata": {
    "deletable": false,
    "nbgrader": {
     "cell_type": "code",
     "checksum": "340c06bd50a9a027a2190674cfb981b9",
     "grade": false,
     "grade_id": "cell-0fdf60e64bf1a4f9",
     "locked": false,
     "schema_version": 3,
     "solution": true
    },
    "ExecuteTime": {
     "end_time": "2023-12-25T21:00:05.923716Z",
     "start_time": "2023-12-25T21:00:05.886277Z"
    }
   },
   "outputs": [],
   "source": [
    "def answer_ten():\n",
    "    # YOUR CODE HERE\n",
    "    df = answer_one()\n",
    "    median = df[\"% Renewable\"].median()\n",
    "    df[\"HighRenew\"] = [1 if x >= median else 0 for x in df[\"% Renewable\"]]\n",
    "    HighRenew = df[\"HighRenew\"]\n",
    "    return HighRenew"
   ]
  },
  {
   "cell_type": "code",
   "execution_count": 119,
   "metadata": {
    "deletable": false,
    "editable": false,
    "nbgrader": {
     "cell_type": "code",
     "checksum": "f624e6996eca5796eaf27fb4d0593175",
     "grade": true,
     "grade_id": "cell-b29a631fd9a7730f",
     "locked": true,
     "points": 6.66,
     "schema_version": 3,
     "solution": false
    },
    "ExecuteTime": {
     "end_time": "2023-12-25T21:00:06.480166Z",
     "start_time": "2023-12-25T21:00:06.377987Z"
    }
   },
   "outputs": [],
   "source": [
    "assert type(answer_ten()) == pd.Series, \"Q10: You should return a Series!\"\n"
   ]
  },
  {
   "cell_type": "markdown",
   "metadata": {
    "deletable": false,
    "editable": false,
    "nbgrader": {
     "cell_type": "markdown",
     "checksum": "52f682e7066791c34cd3b2402855cbf5",
     "grade": false,
     "grade_id": "cell-677c51ba711c3af7",
     "locked": true,
     "schema_version": 3,
     "solution": false
    }
   },
   "source": [
    "### Question 11\n",
    "Use the following dictionary to group the Countries by Continent, then create a DataFrame that displays the sample size (the number of countries in each continent bin), and the sum, mean, and std deviation for the estimated population of each country.\n",
    "\n",
    "```python\n",
    "ContinentDict  = {'China':'Asia', \n",
    "                  'United States':'North America', \n",
    "                  'Japan':'Asia', \n",
    "                  'United Kingdom':'Europe', \n",
    "                  'Russian Federation':'Europe', \n",
    "                  'Canada':'North America', \n",
    "                  'Germany':'Europe', \n",
    "                  'India':'Asia',\n",
    "                  'France':'Europe', \n",
    "                  'South Korea':'Asia', \n",
    "                  'Italy':'Europe', \n",
    "                  'Spain':'Europe', \n",
    "                  'Iran':'Asia',\n",
    "                  'Australia':'Australia', \n",
    "                  'Brazil':'South America'}\n",
    "```\n",
    "\n",
    "*This function should return a DataFrame with index named Continent `['Asia', 'Australia', 'Europe', 'North America', 'South America']` and columns `['size', 'sum', 'mean', 'std']`*"
   ]
  },
  {
   "cell_type": "code",
   "execution_count": null,
   "metadata": {
    "deletable": false,
    "nbgrader": {
     "cell_type": "code",
     "checksum": "b55846bc20cd01b0acbcb776504a766d",
     "grade": false,
     "grade_id": "cell-a5e0c0df27304f98",
     "locked": false,
     "schema_version": 3,
     "solution": true
    }
   },
   "outputs": [],
   "source": [
    "def answer_eleven():\n",
    "    # YOUR CODE HERE\n",
    "    raise NotImplementedError()"
   ]
  },
  {
   "cell_type": "code",
   "execution_count": null,
   "metadata": {
    "deletable": false,
    "editable": false,
    "nbgrader": {
     "cell_type": "code",
     "checksum": "233318097d9c94fdc87395c967da14c4",
     "grade": true,
     "grade_id": "cell-18d1a07971b25743",
     "locked": true,
     "points": 6.66,
     "schema_version": 3,
     "solution": false
    }
   },
   "outputs": [],
   "source": [
    "assert type(answer_eleven()) == pd.DataFrame, \"Q11: You should return a DataFrame!\"\n",
    "\n",
    "assert answer_eleven().shape[0] == 5, \"Q11: Wrong row numbers!\"\n",
    "\n",
    "assert answer_eleven().shape[1] == 4, \"Q11: Wrong column numbers!\"\n"
   ]
  },
  {
   "cell_type": "markdown",
   "metadata": {
    "deletable": false,
    "editable": false,
    "nbgrader": {
     "cell_type": "markdown",
     "checksum": "78d9dbb8ff6e0a1ac1e0d16e026a7d98",
     "grade": false,
     "grade_id": "cell-fa26f5c1eac39c6c",
     "locked": true,
     "schema_version": 3,
     "solution": false
    }
   },
   "source": [
    "### Question 12\n",
    "Cut % Renewable into 5 bins. Group Top15 by the Continent, as well as these new % Renewable bins. How many countries are in each of these groups?\n",
    "\n",
    "*This function should return a Series with a MultiIndex of `Continent`, then the bins for `% Renewable`. Do not include groups with no countries.*"
   ]
  },
  {
   "cell_type": "code",
   "execution_count": null,
   "metadata": {
    "deletable": false,
    "nbgrader": {
     "cell_type": "code",
     "checksum": "27eb27ec7a3347530174f7047288a881",
     "grade": false,
     "grade_id": "cell-2ecd9a4076abd8f0",
     "locked": false,
     "schema_version": 3,
     "solution": true
    }
   },
   "outputs": [],
   "source": [
    "def answer_twelve():\n",
    "    # YOUR CODE HERE\n",
    "    raise NotImplementedError()\n"
   ]
  },
  {
   "cell_type": "code",
   "execution_count": null,
   "metadata": {
    "deletable": false,
    "editable": false,
    "nbgrader": {
     "cell_type": "code",
     "checksum": "48903ccc73403827b7ddbb155783ea14",
     "grade": true,
     "grade_id": "cell-6c665602d6babab9",
     "locked": true,
     "points": 6.66,
     "schema_version": 3,
     "solution": false
    }
   },
   "outputs": [],
   "source": [
    "assert type(answer_twelve()) == pd.Series, \"Q12: You should return a Series!\"\n",
    "\n",
    "assert len(answer_twelve()) == 25, \"Q12: Wrong result numbers!\"\n"
   ]
  },
  {
   "cell_type": "markdown",
   "metadata": {
    "deletable": false,
    "editable": false,
    "nbgrader": {
     "cell_type": "markdown",
     "checksum": "bdfd9b1bb897304b6337fdc47a05967c",
     "grade": false,
     "grade_id": "cell-4209a10d8f208739",
     "locked": true,
     "schema_version": 3,
     "solution": false
    }
   },
   "source": [
    "### Question 13\n",
    "Convert the Population Estimate series to a string with thousands separator (using commas). Use all significant digits (do not round the results).\n",
    "\n",
    "e.g. 12345678.90 -> 12,345,678.90\n",
    "\n",
    "*This function should return a series `PopEst` whose index is the country name and whose values are the population estimate string*"
   ]
  },
  {
   "cell_type": "code",
   "execution_count": null,
   "metadata": {
    "deletable": false,
    "nbgrader": {
     "cell_type": "code",
     "checksum": "1efd09964334b7d6100d81d4b3ead3e9",
     "grade": false,
     "grade_id": "cell-58eb0ee0921d93fb",
     "locked": false,
     "schema_version": 3,
     "solution": true
    }
   },
   "outputs": [],
   "source": [
    "def answer_thirteen():\n",
    "    # YOUR CODE HERE\n",
    "    raise NotImplementedError()"
   ]
  },
  {
   "cell_type": "code",
   "execution_count": null,
   "metadata": {
    "deletable": false,
    "editable": false,
    "nbgrader": {
     "cell_type": "code",
     "checksum": "e014781df77c7edab2a181d2d943be8f",
     "grade": true,
     "grade_id": "cell-10fee7228cf973f6",
     "locked": true,
     "points": 6.74,
     "schema_version": 3,
     "solution": false
    }
   },
   "outputs": [],
   "source": [
    "assert type(answer_thirteen()) == pd.Series, \"Q13: You should return a Series!\"\n",
    "\n",
    "assert len(answer_thirteen()) == 15, \"Q13: Wrong result numbers!\"\n"
   ]
  },
  {
   "cell_type": "markdown",
   "metadata": {
    "deletable": false,
    "editable": false,
    "nbgrader": {
     "cell_type": "markdown",
     "checksum": "61562b9b667bd5efbcec0dcd7becbfaa",
     "grade": false,
     "grade_id": "cell-998b62d4f390ef15",
     "locked": true,
     "schema_version": 3,
     "solution": false
    }
   },
   "source": [
    "### Optional\n",
    "\n",
    "Use the built in function `plot_optional()` to see an example visualization."
   ]
  },
  {
   "cell_type": "code",
   "execution_count": null,
   "metadata": {
    "deletable": false,
    "editable": false,
    "nbgrader": {
     "cell_type": "code",
     "checksum": "479786c97cb5f34d07231c6d7c602a47",
     "grade": false,
     "grade_id": "cell-741fd55ea57cd40a",
     "locked": true,
     "schema_version": 3,
     "solution": false
    }
   },
   "outputs": [],
   "source": [
    "def plot_optional():\n",
    "    import matplotlib as plt\n",
    "    %matplotlib inline\n",
    "    Top15 = answer_one()\n",
    "    ax = Top15.plot(x='Rank', y='% Renewable', kind='scatter', \n",
    "                    c=['#e41a1c','#377eb8','#e41a1c','#4daf4a','#4daf4a','#377eb8','#4daf4a','#e41a1c',\n",
    "                       '#4daf4a','#e41a1c','#4daf4a','#4daf4a','#e41a1c','#dede00','#ff7f00'], \n",
    "                    xticks=range(1,16), s=6*Top15['2014']/10**10, alpha=.75, figsize=[16,6]);\n",
    "\n",
    "    for i, txt in enumerate(Top15.index):\n",
    "        ax.annotate(txt, [Top15['Rank'][i], Top15['% Renewable'][i]], ha='center')\n",
    "\n",
    "    print(\"This is an example of a visualization that can be created to help understand the data. \\\n",
    "This is a bubble chart showing % Renewable vs. Rank. The size of the bubble corresponds to the countries' \\\n",
    "2014 GDP, and the color corresponds to the continent.\")"
   ]
  }
 ],
 "metadata": {
  "anaconda-cloud": {},
  "kernelspec": {
   "display_name": "data-science_env",
   "language": "python",
   "name": "data-science_env"
  },
  "language_info": {
   "codemirror_mode": {
    "name": "ipython",
    "version": 3
   },
   "file_extension": ".py",
   "mimetype": "text/x-python",
   "name": "python",
   "nbconvert_exporter": "python",
   "pygments_lexer": "ipython3",
   "version": "3.10.9"
  }
 },
 "nbformat": 4,
 "nbformat_minor": 4
}

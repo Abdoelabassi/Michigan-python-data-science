{
 "cells": [
  {
   "attachments": {},
   "cell_type": "markdown",
   "metadata": {
    "deletable": false,
    "editable": false,
    "etc_identifier": "653a3605-5bda-4e1f-beef-04a0173d3f41",
    "nbgrader": {
     "cell_type": "markdown",
     "checksum": "60da2e57814a61cf6a81dd670bf35473",
     "grade": false,
     "grade_id": "cell-a6c4f74309fc2379",
     "locked": true,
     "schema_version": 3,
     "solution": false
    }
   },
   "source": [
    "# Assignment 4\n",
    "## Description\n",
    "In this assignment you must read in a file of metropolitan regions and associated sports teams from [assets/wikipedia_data.html](assets/wikipedia_data.html) and answer some questions about each metropolitan region. Each of these regions may have one or more teams from the \"Big 4\": NFL (football, in [assets/nfl.csv](assets/nfl.csv)), MLB (baseball, in [assets/mlb.csv](assets/mlb.csv)), NBA (basketball, in [assets/nba.csv](assets/nba.csv) or NHL (hockey, in [assets/nhl.csv](assets/nhl.csv)). Please keep in mind that all questions are from the perspective of the metropolitan region, and that this file is the \"source of authority\" for the location of a given sports team. Thus teams which are commonly known by a different area (e.g. \"Oakland Raiders\") need to be mapped into the metropolitan region given (e.g. San Francisco Bay Area). This will require some human data understanding outside of the data you've been given (e.g. you will have to hand-code some names, and might need to google to find out where teams are)!\n",
    "\n",
    "For each sport I would like you to answer the question: **what is the win/loss ratio's correlation with the population of the city it is in?** Win/Loss ratio refers to the number of wins over the number of wins plus the number of losses. Remember that to calculate the correlation with [`pearsonr`](https://docs.scipy.org/doc/scipy/reference/generated/scipy.stats.pearsonr.html), so you are going to send in two ordered lists of values, the populations from the wikipedia_data.html file and the win/loss ratio for a given sport in the same order. Average the win/loss ratios for those cities which have multiple teams of a single sport. Each sport is worth an equal amount in this assignment (20%\\*4=80%) of the grade for this assignment. You should only use data **from year 2018** for your analysis -- this is important!\n",
    "\n",
    "## Notes\n",
    "\n",
    "1. Do not include data about the MLS or CFL in any of the work you are doing, we're only interested in the Big 4 in this assignment.\n",
    "2. I highly suggest that you first tackle the four correlation questions in order, as they are all similar and worth the majority of grades for this assignment. This is by design!\n",
    "3. It's fair game to talk with peers about high level strategy as well as the relationship between metropolitan areas and sports teams. However, do not post code solving aspects of the assignment (including such as dictionaries mapping areas to teams, or regexes which will clean up names).\n",
    "4. There may be more teams than the assert statements test, remember to collapse multiple teams in one city into a single value!\n",
    "\n",
    "As this assignment utilizes global variables in the skeleton code, to avoid having errors in your code you can either:\n",
    "\n",
    "1. You can place all of your code within the function definitions for all of the questions (other than import statements).\n",
    "2. You can create copies of all the global variables with the copy() method and proceed as usual."
   ]
  },
  {
   "attachments": {},
   "cell_type": "markdown",
   "metadata": {
    "deletable": false,
    "editable": false,
    "nbgrader": {
     "cell_type": "markdown",
     "checksum": "369ff9ecf0ee04640574205cbc697f94",
     "grade": false,
     "grade_id": "cell-712b2b5da63d4505",
     "locked": true,
     "schema_version": 3,
     "solution": false
    }
   },
   "source": [
    "## Question 1\n",
    "For this question, calculate the win/loss ratio's correlation with the population of the city it is in for the **NHL** using **2018** data."
   ]
  },
  {
   "cell_type": "code",
   "execution_count": 56,
   "metadata": {
    "deletable": false,
    "nbgrader": {
     "cell_type": "code",
     "checksum": "1cac4803b02502929f5b1612d48db2b5",
     "grade": false,
     "grade_id": "cell-69b16e4386e58030",
     "locked": false,
     "schema_version": 3,
     "solution": true
    },
    "ExecuteTime": {
     "end_time": "2024-01-04T16:05:54.211745Z",
     "start_time": "2024-01-04T16:05:53.589225Z"
    }
   },
   "outputs": [
    {
     "name": "stdout",
     "output_type": "stream",
     "text": [
      "(28, 2)\n"
     ]
    },
    {
     "data": {
      "text/plain": "PearsonRResult(statistic=0.012486162921209923, pvalue=0.9497182859911808)"
     },
     "execution_count": 56,
     "metadata": {},
     "output_type": "execute_result"
    }
   ],
   "source": [
    "import pandas as pd\n",
    "import numpy as np\n",
    "import scipy.stats as stats\n",
    "import re\n",
    "\n",
    "def nhl_correlation(): \n",
    "    # YOUR CODE HERE\n",
    "    nhl_df=pd.read_csv(\"assets/nhl.csv\")\n",
    "    cities=pd.read_html(\"assets/wikipedia_data.html\")[1]\n",
    "    cities=cities.iloc[:-1,[0,3,5,6,7,8]]\n",
    "    cities.rename(columns = {\"Population (2016 est.)[8]\":\"Population\"},inplace=True)\n",
    "    #cities[\"NHL\"] = cities[\"NHL\"].str.replace(\"—\", str(np.nan))\n",
    "    cities[\"NHL\"] = cities[\"NHL\"].apply(lambda x: re.sub(r\"\\[.+\\]\", \"\", x))\n",
    "    cities[\"NHL\"] = cities[\"NHL\"].replace({\"Rangers Islanders Devils\": \"Rangers,Islanders,Devils\",\n",
    "                                           \"Kings Ducks\": \"Kings,Ducks\",\n",
    "                                           \"Red Wings\": \"Red,Wings\",\n",
    "                                           \"Maple Leafs\": \"Maple,Leafs\",\n",
    "                                           \"Blue Jackets\": \"Blue,Jackets\",\n",
    "                                           \"Golden Knights\": \"Golden,Knights\" })\n",
    "    cities[\"NHL\"] = cities[\"NHL\"].apply(lambda x: x.split(\",\"))\n",
    "    cities = cities.explode(\"NHL\")\n",
    "    cities = cities.reset_index()\n",
    "    #cities[\"NHL\"] = cities[\"NHL\"].str.replace(\"—\", str(np.nan))\n",
    "    nhl_df = nhl_df[nhl_df[\"year\"] == 2018]\n",
    "    nhl_df[\"team\"] = nhl_df[\"team\"].str.replace(\"*\", \"\")\n",
    "    nhl_df = nhl_df[~nhl_df[\"team\"].str.contains(\"Division\")]\n",
    "    nhl_df[\"team\"] = nhl_df[\"team\"].apply(lambda x: x.split(\" \")[-1])\n",
    "    nhl_df = nhl_df[[\"team\", \"W\", \"L\"]]\n",
    "    nhl_df = nhl_df.astype({\"W\": int, \"L\": int, \"team\": str})\n",
    "    nhl_df[\"WLR\"] = nhl_df[\"W\"] / (nhl_df[\"W\"] + nhl_df[\"L\"])\n",
    "    cities = cities[[\"Metropolitan area\", \"Population\",\"NHL\"]]\n",
    "    cities = cities.rename(columns={\"NHL\":\"team\"})\n",
    "    nhl_full_df = pd.merge(cities, nhl_df, on=\"team\", how=\"inner\")\n",
    "    \n",
    "    nhl_full_df = nhl_full_df.astype({\"Population\": float})\n",
    "    nhl_full_df = nhl_full_df.groupby(\"Metropolitan area\").agg({\"Population\": np.max, \"WLR\": np.mean})\n",
    "    print(nhl_full_df.shape)\n",
    "    population_by_region = nhl_full_df[\"Population\"] # pass in metropolitan area population from cities\n",
    "    win_loss_by_region = nhl_full_df[\"WLR\"] # pass in win/loss ratio from nhl_df in the same order as \n",
    "    assert len(population_by_region) == len(win_loss_by_region), \"Q1: Your lists must be the same length\"\n",
    "    assert len(population_by_region) == 28, \"Q1: There should be 28 teams being analysed for NHL\"\n",
    "    \n",
    "    return stats.pearsonr(population_by_region, win_loss_by_region)[0]\n",
    "    \n",
    "    \n",
    "nhl_correlation()"
   ]
  },
  {
   "cell_type": "code",
   "execution_count": null,
   "metadata": {
    "deletable": false,
    "editable": false,
    "nbgrader": {
     "cell_type": "code",
     "checksum": "52a581df513c71153e105b93764cda4b",
     "grade": true,
     "grade_id": "cell-ebe0b2dfe1067e63",
     "locked": true,
     "points": 20,
     "schema_version": 3,
     "solution": false
    }
   },
   "outputs": [],
   "source": []
  },
  {
   "attachments": {},
   "cell_type": "markdown",
   "metadata": {
    "deletable": false,
    "editable": false,
    "nbgrader": {
     "cell_type": "markdown",
     "checksum": "988912cae4968d81473f46d783e79c16",
     "grade": false,
     "grade_id": "cell-cb964e690298b71d",
     "locked": true,
     "schema_version": 3,
     "solution": false
    }
   },
   "source": [
    "## Question 2\n",
    "For this question, calculate the win/loss ratio's correlation with the population of the city it is in for the **NBA** using **2018** data."
   ]
  },
  {
   "cell_type": "code",
   "execution_count": 67,
   "metadata": {
    "deletable": false,
    "nbgrader": {
     "cell_type": "code",
     "checksum": "9394222aafc8ccab0a228098ba0d6010",
     "grade": false,
     "grade_id": "cell-5a5f21279e3d3572",
     "locked": false,
     "schema_version": 3,
     "solution": true
    },
    "ExecuteTime": {
     "end_time": "2024-01-04T16:31:36.419633Z",
     "start_time": "2024-01-04T16:31:36.292579Z"
    }
   },
   "outputs": [
    {
     "data": {
      "text/plain": "-0.17657160252844614"
     },
     "execution_count": 67,
     "metadata": {},
     "output_type": "execute_result"
    }
   ],
   "source": [
    "import pandas as pd\n",
    "import numpy as np\n",
    "import scipy.stats as stats\n",
    "import re\n",
    "\n",
    "\n",
    "\n",
    "def nba_correlation():\n",
    "    # YOUR CODE HERE\n",
    "    nba_df=pd.read_csv(\"assets/nba.csv\")\n",
    "    cities=pd.read_html(\"assets/wikipedia_data.html\")[1]\n",
    "    cities=cities.iloc[:-1,[0,3,5,6,7,8]]\n",
    "    cities.rename(columns = {\"Population (2016 est.)[8]\":\"Population\"},inplace=True)\n",
    "    cities[\"NBA\"] = cities[\"NBA\"].apply(lambda x: re.sub(r\"\\[.+\\]\", \"\", x))\n",
    "    cities[\"NBA\"] = cities[\"NBA\"].replace({\"Knicks Nets\": \"Knicks,Nets\",\n",
    "                                           \"Lakers Clippers\": \"Lakers,Clippers\",\n",
    "                                           \"Trail Blazers\": \"Trail,Blazers\"})\n",
    "    cities[\"NBA\"] = cities[\"NBA\"].apply(lambda x: x.split(\",\"))\n",
    "    cities = cities.explode(\"NBA\")\n",
    "    cities = cities.reset_index()\n",
    "    \n",
    "    # cleaning nba df\n",
    "    nba_df = nba_df[nba_df[\"year\"] == 2018]\n",
    "    nba_df[\"team\"] = nba_df[\"team\"].apply(lambda x: re.sub(r\"(\\*)*\\s\\(\\d+\\)\", \"\", x))\n",
    "    nba_df[\"team\"] = nba_df[\"team\"].apply(lambda x: x.split(\" \")[-1])\n",
    "    nba_df = nba_df.astype({\"team\": str, \"W\": int, \"L\": int})\n",
    "    nba_df = nba_df[[\"team\", \"W\", \"L\"]]\n",
    "    nba_df[\"WLR\"] = nba_df[\"W\"] / (nba_df[\"W\"] + nba_df[\"L\"])\n",
    "    # merging cities with nba df\n",
    "    cities = cities[[\"Metropolitan area\", \"Population\",\"NBA\"]]\n",
    "    cities = cities.rename(columns={\"NBA\":\"team\"})\n",
    "    nba_full_df = pd.merge(cities, nba_df, on=\"team\", how=\"inner\")\n",
    "\n",
    "    nba_full_df = nba_full_df.astype({\"Population\": float})\n",
    "    nba_full_df = nba_full_df.groupby(\"Metropolitan area\").agg({\"Population\": np.max, \"WLR\": np.mean})\n",
    "\n",
    "\n",
    "\n",
    "    population_by_region = nba_full_df[\"Population\"] # pass in metropolitan area population from citi\n",
    "    win_loss_by_region = nba_full_df[\"WLR\"] # pass in win/loss ratio from nhl_df in the same order as \n",
    "    assert len(population_by_region) == len(win_loss_by_region), \"Q2: Your lists must be the same length\"\n",
    "    assert len(population_by_region) == 28, \"Q2: There should be 28 teams being analysed for NBA\"\n",
    "\n",
    "    return stats.pearsonr(population_by_region, win_loss_by_region)[0]\n",
    "nba_correlation()"
   ]
  },
  {
   "cell_type": "code",
   "execution_count": 62,
   "metadata": {
    "deletable": false,
    "editable": false,
    "nbgrader": {
     "cell_type": "code",
     "checksum": "bbdeb8eb22f525a34c10dc8798324e42",
     "grade": true,
     "grade_id": "cell-e573b2b4a282b470",
     "locked": true,
     "points": 20,
     "schema_version": 3,
     "solution": false
    },
    "ExecuteTime": {
     "end_time": "2024-01-04T16:18:07.463010Z",
     "start_time": "2024-01-04T16:18:07.436463Z"
    }
   },
   "outputs": [],
   "source": []
  },
  {
   "attachments": {},
   "cell_type": "markdown",
   "metadata": {
    "deletable": false,
    "editable": false,
    "nbgrader": {
     "cell_type": "markdown",
     "checksum": "1a1a5809f675ca033086422007cd73bd",
     "grade": false,
     "grade_id": "cell-96e15e4335df78f4",
     "locked": true,
     "schema_version": 3,
     "solution": false
    }
   },
   "source": [
    "## Question 3\n",
    "For this question, calculate the win/loss ratio's correlation with the population of the city it is in for the **MLB** using **2018** data."
   ]
  },
  {
   "cell_type": "code",
   "execution_count": 5,
   "metadata": {
    "deletable": false,
    "nbgrader": {
     "cell_type": "code",
     "checksum": "27e8c0da6c9fa0dffc10488314335b6c",
     "grade": false,
     "grade_id": "cell-33b00fc3f3467b0c",
     "locked": false,
     "schema_version": 3,
     "solution": true
    },
    "ExecuteTime": {
     "end_time": "2024-01-05T10:52:29.741302Z",
     "start_time": "2024-01-05T10:52:29.546838Z"
    }
   },
   "outputs": [
    {
     "name": "stdout",
     "output_type": "stream",
     "text": [
      "26\n"
     ]
    },
    {
     "data": {
      "text/plain": "0.14971538811797036"
     },
     "execution_count": 5,
     "metadata": {},
     "output_type": "execute_result"
    }
   ],
   "source": [
    "import pandas as pd\n",
    "import numpy as np\n",
    "import scipy.stats as stats\n",
    "import re\n",
    "\n",
    "\n",
    "\n",
    "def mlb_correlation(): \n",
    "    # YOUR CODE HERE\n",
    "    mlb_df=pd.read_csv(\"assets/mlb.csv\")\n",
    "    cities=pd.read_html(\"assets/wikipedia_data.html\")[1]\n",
    "    cities=cities.iloc[:-1,[0,3,5,6,7,8]]\n",
    "    cities.rename(columns = {\"Population (2016 est.)[8]\":\"Population\"},inplace=True)\n",
    "    cities[\"MLB\"] = cities[\"MLB\"].apply(lambda x: re.sub(r\"\\[.+\\]\", \"\", x))\n",
    "    cities[\"MLB\"] = cities[\"MLB\"].replace({\"Blue Jays\": \"Blue,Jays\",\n",
    "                                           \"Cubs White Sox\": \"Cubs,White Sox\",\n",
    "                                           \"Dodgers Angels\": \"Dodgers,Angels\",\n",
    "                                           \"Giants Athletics\": \"Giants,Athletics\",\n",
    "                                           \"Yankees Mets\": \"Yankees,Mets\",\n",
    "                                            \"Red Sox\":\"Red,Sox\"\n",
    "                                            })\n",
    "    cities[\"MLB\"] = cities[\"MLB\"].apply(lambda x: x.split(\",\"))\n",
    "    cities = cities.explode(\"MLB\")\n",
    "    cities = cities.reset_index()\n",
    "\n",
    "    # cleaning the mlb_df dataframe\n",
    "    mlb_df = mlb_df[mlb_df[\"year\"] == 2018]\n",
    "    mlb_df[\"team\"] = mlb_df[\"team\"].apply(lambda x: x.split(\" \")[-1])\n",
    "\n",
    "    mlb_df = mlb_df.astype({\"team\": str, \"W\": int, \"L\": int})\n",
    "    mlb_df = mlb_df[[\"team\", \"W\", \"L\"]]\n",
    "    mlb_df[\"WLR\"] = mlb_df[\"W\"] / (mlb_df[\"W\"] + mlb_df[\"L\"])\n",
    "    # merging cities with nba df\n",
    "    cities = cities[[\"Metropolitan area\", \"Population\",\"MLB\"]]\n",
    "    cities = cities.rename(columns={\"MLB\":\"team\"})\n",
    "    mlb_full_df = pd.merge(cities, mlb_df, on=\"team\", how=\"inner\")\n",
    "\n",
    "    # drop duplicated columns\n",
    "    mlb_full_df.loc[mlb_full_df[\"Metropolitan area\"] == \"New York City\", \"WLR\"] = 0.546 # mean of NY W-L%\n",
    "    mlb_full_df.loc[mlb_full_df[\"Metropolitan area\"] == \"Los Angeles\", \"WLR\"] = 0.5289999999999999 # mean of LA W-L%\n",
    "    mlb_full_df.loc[mlb_full_df[\"Metropolitan area\"] == \"San Francisco Bay Area\", \"WLR\"] = 0.525 # mean of SF W-L%\n",
    "    mlb_full_df.loc[mlb_full_df[\"Metropolitan area\"] == \"Chicago\", \"WLR\"] = 0.482769 # mean of CH W-L%\n",
    "    mlb_full_df.loc[mlb_full_df[\"Metropolitan area\"] == \"Boston\", \"WLR\"] = 0.666667 # mean of BO W-L%\n",
    "    mlb_full_df = mlb_full_df.drop_duplicates(subset=\"Metropolitan area\").reset_index()\n",
    "\n",
    "    mlb_full_df = mlb_full_df.astype({\"Population\": float})\n",
    "    mlb_full_df = mlb_full_df.groupby(\"Metropolitan area\").agg({\"Population\": np.max, \"WLR\": np.mean})\n",
    "    \n",
    "    \n",
    "    population_by_region = mlb_full_df[\"Population\"] # pass in metropolitan area population from cities\n",
    "    win_loss_by_region = mlb_full_df[\"WLR\"] # pass in win/loss ratio from mlb_df in the same order as cities[\"Metropolitan area\"]\n",
    "    print(len(population_by_region))\n",
    "    assert len(population_by_region) == len(win_loss_by_region), \"Q3: Your lists must be the same length\"\n",
    "    assert len(population_by_region) == 26, \"Q3: There should be 26 teams being analysed for MLB\"\n",
    "\n",
    "    return stats.pearsonr(population_by_region, win_loss_by_region)[0]\n",
    "mlb_correlation()"
   ]
  },
  {
   "cell_type": "code",
   "execution_count": null,
   "metadata": {
    "deletable": false,
    "editable": false,
    "nbgrader": {
     "cell_type": "code",
     "checksum": "cda33b094ba19ccc37a481e0dd29e0bc",
     "grade": true,
     "grade_id": "cell-764d4476f425c5a2",
     "locked": true,
     "points": 20,
     "schema_version": 3,
     "solution": false
    }
   },
   "outputs": [],
   "source": []
  },
  {
   "attachments": {},
   "cell_type": "markdown",
   "metadata": {
    "deletable": false,
    "editable": false,
    "nbgrader": {
     "cell_type": "markdown",
     "checksum": "6977a6da9ed6d8b7a0b7e37bbeda709b",
     "grade": false,
     "grade_id": "cell-793df6c04dfb126e",
     "locked": true,
     "schema_version": 3,
     "solution": false
    }
   },
   "source": [
    "## Question 4\n",
    "For this question, calculate the win/loss ratio's correlation with the population of the city it is in for the **NFL** using **2018** data."
   ]
  },
  {
   "cell_type": "code",
   "execution_count": 6,
   "metadata": {
    "deletable": false,
    "nbgrader": {
     "cell_type": "code",
     "checksum": "c4914ad1e119278ec2bd567c52640b66",
     "grade": false,
     "grade_id": "cell-8ccebc209aeec8d9",
     "locked": false,
     "schema_version": 3,
     "solution": true
    },
    "ExecuteTime": {
     "end_time": "2024-01-05T10:55:22.963857Z",
     "start_time": "2024-01-05T10:55:22.828647Z"
    }
   },
   "outputs": [
    {
     "data": {
      "text/plain": "-0.06283512354755244"
     },
     "execution_count": 6,
     "metadata": {},
     "output_type": "execute_result"
    }
   ],
   "source": [
    "import pandas as pd\n",
    "import numpy as np\n",
    "import scipy.stats as stats\n",
    "import re\n",
    "\n",
    "\n",
    "def nfl_correlation(): \n",
    "    # YOUR CODE HERE\n",
    "    nfl_df=pd.read_csv(\"assets/nfl.csv\")\n",
    "    cities=pd.read_html(\"assets/wikipedia_data.html\")[1]\n",
    "    cities=cities.iloc[:-1,[0,3,5,6,7,8]]\n",
    "    cities.rename(columns = {\"Population (2016 est.)[8]\":\"Population\"},inplace=True)\n",
    "    # cleaning the cities dataframe\n",
    "    cities[\"NFL\"] = cities[\"NFL\"].apply(lambda x: re.sub(r\"\\[.+\\]\", \"\", x))\n",
    "    cities[\"NFL\"] = cities[\"NFL\"].replace({\"Giants Jets\": \"Giants,Jets\",\n",
    "                                           \"Rams Chargers\": \"Rams,Chargers\",\n",
    "                                           \"49ers Raiders\": \"49ers,Raiders\"\n",
    "                                           })\n",
    "    cities[\"NFL\"] = cities[\"NFL\"].apply(lambda x: x.split(\",\"))\n",
    "    cities = cities.explode(\"NFL\")\n",
    "    cities = cities.reset_index()\n",
    "\n",
    "    # cleaning the nhl_df dataframe\n",
    "    nfl_df = nfl_df[nfl_df[\"year\"] == 2018]\n",
    "    nfl_df[\"team\"] = nfl_df[\"team\"].apply(lambda x: re.sub(r\"(\\*|\\+)\", \"\", x))\n",
    "    nfl_df = nfl_df[~nfl_df[\"team\"].str.contains(r\"AFC [A-Z][a-z].+\", regex=True)]\n",
    "    nfl_df = nfl_df[~nfl_df[\"team\"].str.contains(r\"NFC [A-Z][a-z].+\", regex=True)]\n",
    "    nfl_df[\"team\"] = nfl_df[\"team\"].apply(lambda x: x.split(\" \")[-1])\n",
    "    nfl_df = nfl_df.astype({\"team\": str, \"W\": int, \"L\": int})\n",
    "    nfl_df = nfl_df[[\"team\", \"W\", \"L\"]]\n",
    "    nfl_df[\"WLR\"] = nfl_df[\"W\"] / (nfl_df[\"W\"] + nfl_df[\"L\"])\n",
    "    # merging cities with nba df\n",
    "    cities = cities[[\"Metropolitan area\", \"Population\",\"NFL\"]]\n",
    "    #cities = cities.rename(columns={\"NFL\":\"team\"})\n",
    "    nfl_full_df = pd.merge(cities, nfl_df, left_on=\"NFL\", right_on=\"team\")\n",
    "    nfl_full_df = nfl_full_df.astype({\"Population\": float})\n",
    "\n",
    "    # Population and win/loss correlation\n",
    "    nfl_full_df = nfl_full_df.groupby(\"Metropolitan area\").agg({\"Population\": np.sum, \"WLR\": np.mean})\n",
    "    \n",
    "    population_by_region = nfl_full_df[\"Population\"] # pass in metropolitan area population from cities\n",
    "    win_loss_by_region = nfl_full_df[\"WLR\"] # pass in win/loss ratio from mlb_df in the same order as cities[\"Metropolitan area\"]\n",
    "\n",
    "    assert len(population_by_region) == len(win_loss_by_region), \"Q4: Your lists must be the same length\"\n",
    "    assert len(population_by_region) == 29, \"Q4: There should be 29 teams being analysed for NFL\"\n",
    "   \n",
    "\n",
    "    return stats.pearsonr(population_by_region, win_loss_by_region)[0]\n",
    "nfl_correlation()"
   ]
  },
  {
   "cell_type": "code",
   "execution_count": null,
   "metadata": {
    "deletable": false,
    "editable": false,
    "nbgrader": {
     "cell_type": "code",
     "checksum": "e9415d6399aa49e3a1a60813afdefa3b",
     "grade": true,
     "grade_id": "cell-de7b148b9554dbda",
     "locked": true,
     "points": 20,
     "schema_version": 3,
     "solution": false
    }
   },
   "outputs": [],
   "source": []
  },
  {
   "attachments": {},
   "cell_type": "markdown",
   "metadata": {
    "deletable": false,
    "editable": false,
    "nbgrader": {
     "cell_type": "markdown",
     "checksum": "b02d5cd3273f561e4ae939bb2a41740c",
     "grade": false,
     "grade_id": "cell-97b49d8639e908c4",
     "locked": true,
     "schema_version": 3,
     "solution": false
    }
   },
   "source": [
    "## Question 5\n",
    "In this question I would like you to explore the hypothesis that **given that an area has two sports teams in different sports, those teams will perform the same within their respective sports**. How I would like to see this explored is with a series of paired t-tests (so use [`ttest_rel`](https://docs.scipy.org/doc/scipy/reference/generated/scipy.stats.ttest_rel.html)) between all pairs of sports. Are there any sports where we can reject the null hypothesis? Again, average values where a sport has multiple teams in one region. Remember, you will only be including, for each sport, cities which have teams engaged in that sport, drop others as appropriate. This question is worth 20% of the grade for this assignment."
   ]
  },
  {
   "cell_type": "code",
   "execution_count": 29,
   "metadata": {
    "deletable": false,
    "nbgrader": {
     "cell_type": "code",
     "checksum": "6d78c961eb66f8d8c81f06d33ae8f393",
     "grade": false,
     "grade_id": "cell-92f25f44b8d1179f",
     "locked": false,
     "schema_version": 3,
     "solution": true
    },
    "ExecuteTime": {
     "end_time": "2024-01-05T12:09:35.801146Z",
     "start_time": "2024-01-05T12:09:25.574327Z"
    }
   },
   "outputs": [
    {
     "ename": "AssertionError",
     "evalue": "The NBA-NHL p-value should be around 0.02",
     "output_type": "error",
     "traceback": [
      "\u001B[0;31m---------------------------------------------------------------------------\u001B[0m",
      "\u001B[0;31mAssertionError\u001B[0m                            Traceback (most recent call last)",
      "Cell \u001B[0;32mIn[29], line 180\u001B[0m\n\u001B[1;32m    178\u001B[0m     \u001B[38;5;28;01massert\u001B[39;00m \u001B[38;5;28mabs\u001B[39m(p_values\u001B[38;5;241m.\u001B[39mloc[\u001B[38;5;124m\"\u001B[39m\u001B[38;5;124mMLB\u001B[39m\u001B[38;5;124m\"\u001B[39m, \u001B[38;5;124m\"\u001B[39m\u001B[38;5;124mNFL\u001B[39m\u001B[38;5;124m\"\u001B[39m] \u001B[38;5;241m-\u001B[39m \u001B[38;5;241m0.80\u001B[39m) \u001B[38;5;241m<\u001B[39m\u001B[38;5;241m=\u001B[39m \u001B[38;5;241m1e-2\u001B[39m, \u001B[38;5;124m\"\u001B[39m\u001B[38;5;124mThe MLB-NFL p-value should be around 0.80\u001B[39m\u001B[38;5;124m\"\u001B[39m\n\u001B[1;32m    179\u001B[0m     \u001B[38;5;28;01mreturn\u001B[39;00m p_values\n\u001B[0;32m--> 180\u001B[0m \u001B[43msports_team_performance\u001B[49m\u001B[43m(\u001B[49m\u001B[43m)\u001B[49m\n",
      "Cell \u001B[0;32mIn[29], line 177\u001B[0m, in \u001B[0;36msports_team_performance\u001B[0;34m()\u001B[0m\n\u001B[1;32m    174\u001B[0m p_values \u001B[38;5;241m=\u001B[39m pd\u001B[38;5;241m.\u001B[39mDataFrame(p_values_dict)\u001B[38;5;241m.\u001B[39mastype(\u001B[38;5;124m\"\u001B[39m\u001B[38;5;124mfloat\u001B[39m\u001B[38;5;124m\"\u001B[39m)\n\u001B[1;32m    175\u001B[0m \u001B[38;5;66;03m#p_values = pd.DataFrame({k:np.nan for k in sports}, index=sports)\u001B[39;00m\n\u001B[0;32m--> 177\u001B[0m \u001B[38;5;28;01massert\u001B[39;00m \u001B[38;5;28mabs\u001B[39m(p_values\u001B[38;5;241m.\u001B[39mloc[\u001B[38;5;124m\"\u001B[39m\u001B[38;5;124mNBA\u001B[39m\u001B[38;5;124m\"\u001B[39m, \u001B[38;5;124m\"\u001B[39m\u001B[38;5;124mNHL\u001B[39m\u001B[38;5;124m\"\u001B[39m] \u001B[38;5;241m-\u001B[39m \u001B[38;5;241m0.02\u001B[39m) \u001B[38;5;241m<\u001B[39m\u001B[38;5;241m=\u001B[39m \u001B[38;5;241m1e-2\u001B[39m, \u001B[38;5;124m\"\u001B[39m\u001B[38;5;124mThe NBA-NHL p-value should be around 0.02\u001B[39m\u001B[38;5;124m\"\u001B[39m\n\u001B[1;32m    178\u001B[0m \u001B[38;5;28;01massert\u001B[39;00m \u001B[38;5;28mabs\u001B[39m(p_values\u001B[38;5;241m.\u001B[39mloc[\u001B[38;5;124m\"\u001B[39m\u001B[38;5;124mMLB\u001B[39m\u001B[38;5;124m\"\u001B[39m, \u001B[38;5;124m\"\u001B[39m\u001B[38;5;124mNFL\u001B[39m\u001B[38;5;124m\"\u001B[39m] \u001B[38;5;241m-\u001B[39m \u001B[38;5;241m0.80\u001B[39m) \u001B[38;5;241m<\u001B[39m\u001B[38;5;241m=\u001B[39m \u001B[38;5;241m1e-2\u001B[39m, \u001B[38;5;124m\"\u001B[39m\u001B[38;5;124mThe MLB-NFL p-value should be around 0.80\u001B[39m\u001B[38;5;124m\"\u001B[39m\n\u001B[1;32m    179\u001B[0m \u001B[38;5;28;01mreturn\u001B[39;00m p_values\n",
      "\u001B[0;31mAssertionError\u001B[0m: The NBA-NHL p-value should be around 0.02"
     ]
    }
   ],
   "source": [
    "import pandas as pd\n",
    "import numpy as np\n",
    "import scipy.stats as stats\n",
    "import re\n",
    "\n",
    "#nhl\n",
    "def nhl_cleaned_df() -> pd.DataFrame:\n",
    "    nhl_df=pd.read_csv(\"assets/nhl.csv\")\n",
    "    cities=pd.read_html(\"assets/wikipedia_data.html\")[1]\n",
    "    cities=cities.iloc[:-1,[0,3,5,6,7,8]]\n",
    "    cities.rename(columns = {\"Population (2016 est.)[8]\":\"Population\"},inplace=True)\n",
    "    #cities[\"NHL\"] = cities[\"NHL\"].str.replace(\"—\", str(np.nan))\n",
    "    cities[\"NHL\"] = cities[\"NHL\"].apply(lambda x: re.sub(r\"\\[.+\\]\", \"\", x))\n",
    "    cities[\"NHL\"] = cities[\"NHL\"].replace({\"Rangers Islanders Devils\": \"Rangers,Islanders,Devils\",\n",
    "                                           \"Kings Ducks\": \"Kings,Ducks\",\n",
    "                                           \"Red Wings\": \"Red,Wings\",\n",
    "                                           \"Maple Leafs\": \"Maple,Leafs\",\n",
    "                                           \"Blue Jackets\": \"Blue,Jackets\",\n",
    "                                           \"Golden Knights\": \"Golden,Knights\" })\n",
    "    cities[\"NHL\"] = cities[\"NHL\"].apply(lambda x: x.split(\",\"))\n",
    "    cities = cities.explode(\"NHL\")\n",
    "    cities = cities.reset_index()\n",
    "    #cities[\"NHL\"] = cities[\"NHL\"].str.replace(\"—\", str(np.nan))\n",
    "    nhl_df = nhl_df[nhl_df[\"year\"] == 2018]\n",
    "    nhl_df[\"team\"] = nhl_df[\"team\"].str.replace(\"*\", \"\")\n",
    "    nhl_df = nhl_df[~nhl_df[\"team\"].str.contains(\"Division\")]\n",
    "    nhl_df[\"team\"] = nhl_df[\"team\"].apply(lambda x: x.split(\" \")[-1])\n",
    "    nhl_df = nhl_df[[\"team\", \"W\", \"L\"]]\n",
    "    nhl_df = nhl_df.astype({\"W\": int, \"L\": int, \"team\": str})\n",
    "    nhl_df[\"WLR\"] = nhl_df[\"W\"] / (nhl_df[\"W\"] + nhl_df[\"L\"])\n",
    "    cities = cities[[\"Metropolitan area\", \"Population\",\"NHL\"]]\n",
    "    cities = cities.rename(columns={\"NHL\":\"team\"})\n",
    "    nhl_full_df = pd.merge(cities, nhl_df, on=\"team\", how=\"inner\")\n",
    "\n",
    "    nhl_full_df = nhl_full_df.astype({\"Population\": float})\n",
    "    return nhl_full_df\n",
    "# nba\n",
    "def nba_cleaned_df() -> pd.DataFrame:\n",
    "    nba_df=pd.read_csv(\"assets/nba.csv\")\n",
    "    cities=pd.read_html(\"assets/wikipedia_data.html\")[1]\n",
    "    cities=cities.iloc[:-1,[0,3,5,6,7,8]]\n",
    "    cities.rename(columns = {\"Population (2016 est.)[8]\":\"Population\"},inplace=True)\n",
    "    cities[\"NBA\"] = cities[\"NBA\"].apply(lambda x: re.sub(r\"\\[.+\\]\", \"\", x))\n",
    "    cities[\"NBA\"] = cities[\"NBA\"].replace({\"Knicks Nets\": \"Knicks,Nets\",\n",
    "                                           \"Lakers Clippers\": \"Lakers,Clippers\",\n",
    "                                           \"Trail Blazers\": \"Trail,Blazers\"})\n",
    "    cities[\"NBA\"] = cities[\"NBA\"].apply(lambda x: x.split(\",\"))\n",
    "    cities = cities.explode(\"NBA\")\n",
    "    cities = cities.reset_index()\n",
    "\n",
    "    # cleaning nba df\n",
    "    nba_df = nba_df[nba_df[\"year\"] == 2018]\n",
    "    nba_df[\"team\"] = nba_df[\"team\"].apply(lambda x: re.sub(r\"(\\*)*\\s\\(\\d+\\)\", \"\", x))\n",
    "    nba_df[\"team\"] = nba_df[\"team\"].apply(lambda x: x.split(\" \")[-1])\n",
    "    nba_df = nba_df.astype({\"team\": str, \"W\": int, \"L\": int})\n",
    "    nba_df = nba_df[[\"team\", \"W\", \"L\"]]\n",
    "    nba_df[\"WLR\"] = nba_df[\"W\"] / (nba_df[\"W\"] + nba_df[\"L\"])\n",
    "    # merging cities with nba df\n",
    "    cities = cities[[\"Metropolitan area\", \"Population\",\"NBA\"]]\n",
    "    cities = cities.rename(columns={\"NBA\":\"team\"})\n",
    "    nba_full_df = pd.merge(cities, nba_df, on=\"team\", how=\"inner\")\n",
    "\n",
    "    nba_full_df = nba_full_df.astype({\"Population\": float})\n",
    "    return nba_full_df\n",
    "#mlb\n",
    "def mlb_cleaned_df() -> pd.DataFrame:\n",
    "    mlb_df=pd.read_csv(\"assets/mlb.csv\")\n",
    "    cities=pd.read_html(\"assets/wikipedia_data.html\")[1]\n",
    "    cities=cities.iloc[:-1,[0,3,5,6,7,8]]\n",
    "    cities.rename(columns = {\"Population (2016 est.)[8]\":\"Population\"},inplace=True)\n",
    "    cities[\"MLB\"] = cities[\"MLB\"].apply(lambda x: re.sub(r\"\\[.+\\]\", \"\", x))\n",
    "    cities[\"MLB\"] = cities[\"MLB\"].replace({\"Blue Jays\": \"Blue,Jays\",\n",
    "                                           \"Cubs White Sox\": \"Cubs,White Sox\",\n",
    "                                           \"Dodgers Angels\": \"Dodgers,Angels\",\n",
    "                                           \"Giants Athletics\": \"Giants,Athletics\",\n",
    "                                           \"Yankees Mets\": \"Yankees,Mets\",\n",
    "                                           \"Red Sox\":\"Red,Sox\"\n",
    "                                           })\n",
    "    cities[\"MLB\"] = cities[\"MLB\"].apply(lambda x: x.split(\",\"))\n",
    "    cities = cities.explode(\"MLB\")\n",
    "    cities = cities.reset_index()\n",
    "\n",
    "    # cleaning the mlb_df dataframe\n",
    "    mlb_df = mlb_df[mlb_df[\"year\"] == 2018]\n",
    "    mlb_df[\"team\"] = mlb_df[\"team\"].apply(lambda x: x.split(\" \")[-1])\n",
    "\n",
    "    mlb_df = mlb_df.astype({\"team\": str, \"W\": int, \"L\": int})\n",
    "    mlb_df = mlb_df[[\"team\", \"W\", \"L\"]]\n",
    "    mlb_df[\"WLR\"] = mlb_df[\"W\"] / (mlb_df[\"W\"] + mlb_df[\"L\"])\n",
    "    # merging cities with nba df\n",
    "    cities = cities[[\"Metropolitan area\", \"Population\",\"MLB\"]]\n",
    "    cities = cities.rename(columns={\"MLB\":\"team\"})\n",
    "    mlb_full_df = pd.merge(cities, mlb_df, on=\"team\", how=\"inner\")\n",
    "\n",
    "    # drop duplicated columns\n",
    "    mlb_full_df.loc[mlb_full_df[\"Metropolitan area\"] == \"New York City\", \"WLR\"] = 0.546 # mean of NY W-L%\n",
    "    mlb_full_df.loc[mlb_full_df[\"Metropolitan area\"] == \"Los Angeles\", \"WLR\"] = 0.5289999999999999 # mean of LA W-L%\n",
    "    mlb_full_df.loc[mlb_full_df[\"Metropolitan area\"] == \"San Francisco Bay Area\", \"WLR\"] = 0.525 # mean of SF W-L%\n",
    "    mlb_full_df.loc[mlb_full_df[\"Metropolitan area\"] == \"Chicago\", \"WLR\"] = 0.482769 # mean of CH W-L%\n",
    "    mlb_full_df.loc[mlb_full_df[\"Metropolitan area\"] == \"Boston\", \"WLR\"] = 0.666667 # mean of BO W-L%\n",
    "    mlb_full_df = mlb_full_df.drop_duplicates(subset=\"Metropolitan area\").reset_index()\n",
    "\n",
    "    mlb_full_df = mlb_full_df.astype({\"Population\": float})\n",
    "    return mlb_full_df\n",
    "# nfl\n",
    "def nfl_cleaned_df() -> pd.DataFrame:\n",
    "    nfl_df=pd.read_csv(\"assets/nfl.csv\")\n",
    "    cities=pd.read_html(\"assets/wikipedia_data.html\")[1]\n",
    "    cities=cities.iloc[:-1,[0,3,5,6,7,8]]\n",
    "    cities.rename(columns = {\"Population (2016 est.)[8]\":\"Population\"},inplace=True)\n",
    "    # cleaning the cities dataframe\n",
    "    cities[\"NFL\"] = cities[\"NFL\"].apply(lambda x: re.sub(r\"\\[.+\\]\", \"\", x))\n",
    "    cities[\"NFL\"] = cities[\"NFL\"].replace({\"Giants Jets\": \"Giants,Jets\",\n",
    "                                           \"Rams Chargers\": \"Rams,Chargers\",\n",
    "                                           \"49ers Raiders\": \"49ers,Raiders\"\n",
    "                                           })\n",
    "    cities[\"NFL\"] = cities[\"NFL\"].apply(lambda x: x.split(\",\"))\n",
    "    cities = cities.explode(\"NFL\")\n",
    "    cities = cities.reset_index()\n",
    "\n",
    "    # cleaning the nhl_df dataframe\n",
    "    nfl_df = nfl_df[nfl_df[\"year\"] == 2018]\n",
    "    nfl_df[\"team\"] = nfl_df[\"team\"].apply(lambda x: re.sub(r\"(\\*|\\+)\", \"\", x))\n",
    "    nfl_df = nfl_df[~nfl_df[\"team\"].str.contains(r\"AFC [A-Z][a-z].+\", regex=True)]\n",
    "    nfl_df = nfl_df[~nfl_df[\"team\"].str.contains(r\"NFC [A-Z][a-z].+\", regex=True)]\n",
    "    nfl_df[\"team\"] = nfl_df[\"team\"].apply(lambda x: x.split(\" \")[-1])\n",
    "    nfl_df = nfl_df.astype({\"team\": str, \"W\": int, \"L\": int})\n",
    "    nfl_df = nfl_df[[\"team\", \"W\", \"L\"]]\n",
    "    nfl_df[\"WLR\"] = nfl_df[\"W\"] / (nfl_df[\"W\"] + nfl_df[\"L\"])\n",
    "    # merging cities with nba df\n",
    "    cities = cities[[\"Metropolitan area\", \"Population\",\"NFL\"]]\n",
    "    #cities = cities.rename(columns={\"NFL\":\"team\"})\n",
    "    nfl_full_df = pd.merge(cities, nfl_df, left_on=\"NFL\", right_on=\"team\")\n",
    "    nfl_full_df = nfl_full_df.astype({\"Population\": float})\n",
    "    \n",
    "    return  nfl_full_df\n",
    "\n",
    "# match which df\n",
    "def league_df(sport):\n",
    "    nfl_full_df = nfl_cleaned_df()[[\"Metropolitan area\", \"WLR\"]]\n",
    "    nhl_full_df = nhl_cleaned_df()[[\"Metropolitan area\", \"WLR\"]]\n",
    "    mlb_full_df = mlb_cleaned_df()[[\"Metropolitan area\", \"WLR\"]]\n",
    "    nba_full_df = nba_cleaned_df()[[\"Metropolitan area\", \"WLR\"]]\n",
    "    if sport =='NFL':\n",
    "        return nfl_full_df\n",
    "    elif sport =='NBA':\n",
    "        return nba_full_df\n",
    "    elif sport =='NHL':\n",
    "        return nhl_full_df\n",
    "    elif sport =='MLB':\n",
    "        return mlb_full_df\n",
    "    else:\n",
    "        print(\"We're only interested in Big4!.\")\n",
    "# p-value\n",
    "def evaluate_p_values(Big4: list, func):\n",
    "    p_values = pd.DataFrame({k:np.nan for k in Big4}, index=Big4)\n",
    "    for i in Big4:\n",
    "        for j in Big4:\n",
    "            if i != j:\n",
    "                big4_df = pd.merge(func(i), func(j), on=\"Metropolitan area\", how=\"inner\")\n",
    "                p_values.loc[i, j] = stats.ttest_rel(big4_df[\"WLR_x\"], big4_df[\"WLR_y\"])[1]\n",
    "    return p_values\n",
    "\n",
    "\n",
    "    \n",
    "def sports_team_performance():\n",
    "    # YOUR CODE HERE    \n",
    "    # Note: p_values is a full dataframe, so df.loc[\"NFL\",\"NBA\"] should be the same as df.loc[\"NBA\",\"NFL\"] and\n",
    "    # df.loc[\"NFL\",\"NFL\"] should return np.nan\n",
    "\n",
    "    \n",
    "    sports = ['NFL', 'NBA', 'NHL', 'MLB']\n",
    "    p_values_dict = evaluate_p_values(sports, league_df)\n",
    "    p_values = pd.DataFrame(p_values_dict).astype(\"float\")\n",
    "    #p_values = pd.DataFrame({k:np.nan for k in sports}, index=sports)\n",
    "    \n",
    "    assert abs(p_values.loc[\"NBA\", \"NHL\"] - 0.02) <= 1e-2, \"The NBA-NHL p-value should be around 0.02\"\n",
    "    assert abs(p_values.loc[\"MLB\", \"NFL\"] - 0.80) <= 1e-2, \"The MLB-NFL p-value should be around 0.80\"\n",
    "    return p_values\n",
    "sports_team_performance()"
   ]
  },
  {
   "cell_type": "code",
   "outputs": [
    {
     "data": {
      "text/plain": "          NFL       NBA       NHL       MLB\nNFL       NaN  0.768652  0.007585  0.962810\nNBA  0.768652       NaN  0.000076  0.755916\nNHL  0.007585  0.000076       NaN  0.001293\nMLB  0.962810  0.755916  0.001293       NaN",
      "text/html": "<div>\n<style scoped>\n    .dataframe tbody tr th:only-of-type {\n        vertical-align: middle;\n    }\n\n    .dataframe tbody tr th {\n        vertical-align: top;\n    }\n\n    .dataframe thead th {\n        text-align: right;\n    }\n</style>\n<table border=\"1\" class=\"dataframe\">\n  <thead>\n    <tr style=\"text-align: right;\">\n      <th></th>\n      <th>NFL</th>\n      <th>NBA</th>\n      <th>NHL</th>\n      <th>MLB</th>\n    </tr>\n  </thead>\n  <tbody>\n    <tr>\n      <th>NFL</th>\n      <td>NaN</td>\n      <td>0.768652</td>\n      <td>0.007585</td>\n      <td>0.962810</td>\n    </tr>\n    <tr>\n      <th>NBA</th>\n      <td>0.768652</td>\n      <td>NaN</td>\n      <td>0.000076</td>\n      <td>0.755916</td>\n    </tr>\n    <tr>\n      <th>NHL</th>\n      <td>0.007585</td>\n      <td>0.000076</td>\n      <td>NaN</td>\n      <td>0.001293</td>\n    </tr>\n    <tr>\n      <th>MLB</th>\n      <td>0.962810</td>\n      <td>0.755916</td>\n      <td>0.001293</td>\n      <td>NaN</td>\n    </tr>\n  </tbody>\n</table>\n</div>"
     },
     "execution_count": 30,
     "metadata": {},
     "output_type": "execute_result"
    }
   ],
   "source": [
    "sports = ['NFL', 'NBA', 'NHL', 'MLB']\n",
    "p_values_dict = evaluate_p_values(sports, league_df)\n",
    "p_values = pd.DataFrame(p_values_dict)\n",
    "p_values"
   ],
   "metadata": {
    "collapsed": false,
    "ExecuteTime": {
     "end_time": "2024-01-05T12:09:49.243768Z",
     "start_time": "2024-01-05T12:09:39.514709Z"
    }
   },
   "execution_count": 30
  },
  {
   "cell_type": "code",
   "execution_count": 31,
   "metadata": {
    "deletable": false,
    "editable": false,
    "nbgrader": {
     "cell_type": "code",
     "checksum": "2a596ab421a45cc01168d10e8fbb8f89",
     "grade": true,
     "grade_id": "cell-fb4b9cb5ff4570a6",
     "locked": true,
     "points": 20,
     "schema_version": 3,
     "solution": false
    },
    "ExecuteTime": {
     "end_time": "2024-01-05T12:09:53.388925Z",
     "start_time": "2024-01-05T12:09:53.341463Z"
    }
   },
   "outputs": [
    {
     "name": "stdout",
     "output_type": "stream",
     "text": [
      "7.574348978012254e-05\n",
      "0.9628096337170121\n"
     ]
    }
   ],
   "source": [
    "print(p_values.loc[\"NHL\", \"NBA\"])\n",
    "print(p_values.loc[\"NFL\", \"MLB\"])"
   ]
  },
  {
   "cell_type": "code",
   "outputs": [
    {
     "data": {
      "text/plain": "          NFL       NBA       NHL       MLB\nNFL       1.0  0.768652  0.007585   0.96281\nNBA  0.768652       1.0  0.000076  0.755916\nNHL  0.007585  0.000076       1.0  0.001293\nMLB   0.96281  0.755916  0.001293       NaN",
      "text/html": "<div>\n<style scoped>\n    .dataframe tbody tr th:only-of-type {\n        vertical-align: middle;\n    }\n\n    .dataframe tbody tr th {\n        vertical-align: top;\n    }\n\n    .dataframe thead th {\n        text-align: right;\n    }\n</style>\n<table border=\"1\" class=\"dataframe\">\n  <thead>\n    <tr style=\"text-align: right;\">\n      <th></th>\n      <th>NFL</th>\n      <th>NBA</th>\n      <th>NHL</th>\n      <th>MLB</th>\n    </tr>\n  </thead>\n  <tbody>\n    <tr>\n      <th>NFL</th>\n      <td>1.0</td>\n      <td>0.768652</td>\n      <td>0.007585</td>\n      <td>0.96281</td>\n    </tr>\n    <tr>\n      <th>NBA</th>\n      <td>0.768652</td>\n      <td>1.0</td>\n      <td>0.000076</td>\n      <td>0.755916</td>\n    </tr>\n    <tr>\n      <th>NHL</th>\n      <td>0.007585</td>\n      <td>0.000076</td>\n      <td>1.0</td>\n      <td>0.001293</td>\n    </tr>\n    <tr>\n      <th>MLB</th>\n      <td>0.96281</td>\n      <td>0.755916</td>\n      <td>0.001293</td>\n      <td>NaN</td>\n    </tr>\n  </tbody>\n</table>\n</div>"
     },
     "execution_count": 22,
     "metadata": {},
     "output_type": "execute_result"
    }
   ],
   "source": [
    "p_values_dict"
   ],
   "metadata": {
    "collapsed": false,
    "ExecuteTime": {
     "end_time": "2024-01-05T11:47:34.017282Z",
     "start_time": "2024-01-05T11:47:33.958244Z"
    }
   },
   "execution_count": 22
  },
  {
   "cell_type": "code",
   "outputs": [
    {
     "data": {
      "text/plain": "         Metropolitan area     WLR_x     WLR_y\n0            New York City  0.312500  0.465753\n1            New York City  0.312500  0.486111\n2            New York City  0.312500  0.602740\n3            New York City  0.250000  0.465753\n4            New York City  0.250000  0.486111\n5            New York City  0.250000  0.602740\n6              Los Angeles  0.812500  0.608108\n7              Los Angeles  0.812500  0.637681\n8              Los Angeles  0.750000  0.608108\n9              Los Angeles  0.750000  0.637681\n10  San Francisco Bay Area  0.250000  0.625000\n11  San Francisco Bay Area  0.250000  0.625000\n12                 Chicago  0.750000  0.458333\n13       Dallas–Fort Worth  0.625000  0.567568\n14        Washington, D.C.  0.437500  0.653333\n15            Philadelphia  0.562500  0.617647\n16                  Boston  0.687500  0.714286\n17  Minneapolis–Saint Paul  0.533333  0.633803\n18                  Denver  0.375000  0.589041\n19   Miami–Fort Lauderdale  0.437500  0.594595\n20                 Phoenix  0.187500  0.414286\n21                 Detroit  0.375000  0.434783\n22          Tampa Bay Area  0.312500  0.701299\n23              Pittsburgh  0.600000  0.618421\n24               Nashville  0.562500  0.746479\n25                 Buffalo  0.375000  0.357143",
      "text/html": "<div>\n<style scoped>\n    .dataframe tbody tr th:only-of-type {\n        vertical-align: middle;\n    }\n\n    .dataframe tbody tr th {\n        vertical-align: top;\n    }\n\n    .dataframe thead th {\n        text-align: right;\n    }\n</style>\n<table border=\"1\" class=\"dataframe\">\n  <thead>\n    <tr style=\"text-align: right;\">\n      <th></th>\n      <th>Metropolitan area</th>\n      <th>WLR_x</th>\n      <th>WLR_y</th>\n    </tr>\n  </thead>\n  <tbody>\n    <tr>\n      <th>0</th>\n      <td>New York City</td>\n      <td>0.312500</td>\n      <td>0.465753</td>\n    </tr>\n    <tr>\n      <th>1</th>\n      <td>New York City</td>\n      <td>0.312500</td>\n      <td>0.486111</td>\n    </tr>\n    <tr>\n      <th>2</th>\n      <td>New York City</td>\n      <td>0.312500</td>\n      <td>0.602740</td>\n    </tr>\n    <tr>\n      <th>3</th>\n      <td>New York City</td>\n      <td>0.250000</td>\n      <td>0.465753</td>\n    </tr>\n    <tr>\n      <th>4</th>\n      <td>New York City</td>\n      <td>0.250000</td>\n      <td>0.486111</td>\n    </tr>\n    <tr>\n      <th>5</th>\n      <td>New York City</td>\n      <td>0.250000</td>\n      <td>0.602740</td>\n    </tr>\n    <tr>\n      <th>6</th>\n      <td>Los Angeles</td>\n      <td>0.812500</td>\n      <td>0.608108</td>\n    </tr>\n    <tr>\n      <th>7</th>\n      <td>Los Angeles</td>\n      <td>0.812500</td>\n      <td>0.637681</td>\n    </tr>\n    <tr>\n      <th>8</th>\n      <td>Los Angeles</td>\n      <td>0.750000</td>\n      <td>0.608108</td>\n    </tr>\n    <tr>\n      <th>9</th>\n      <td>Los Angeles</td>\n      <td>0.750000</td>\n      <td>0.637681</td>\n    </tr>\n    <tr>\n      <th>10</th>\n      <td>San Francisco Bay Area</td>\n      <td>0.250000</td>\n      <td>0.625000</td>\n    </tr>\n    <tr>\n      <th>11</th>\n      <td>San Francisco Bay Area</td>\n      <td>0.250000</td>\n      <td>0.625000</td>\n    </tr>\n    <tr>\n      <th>12</th>\n      <td>Chicago</td>\n      <td>0.750000</td>\n      <td>0.458333</td>\n    </tr>\n    <tr>\n      <th>13</th>\n      <td>Dallas–Fort Worth</td>\n      <td>0.625000</td>\n      <td>0.567568</td>\n    </tr>\n    <tr>\n      <th>14</th>\n      <td>Washington, D.C.</td>\n      <td>0.437500</td>\n      <td>0.653333</td>\n    </tr>\n    <tr>\n      <th>15</th>\n      <td>Philadelphia</td>\n      <td>0.562500</td>\n      <td>0.617647</td>\n    </tr>\n    <tr>\n      <th>16</th>\n      <td>Boston</td>\n      <td>0.687500</td>\n      <td>0.714286</td>\n    </tr>\n    <tr>\n      <th>17</th>\n      <td>Minneapolis–Saint Paul</td>\n      <td>0.533333</td>\n      <td>0.633803</td>\n    </tr>\n    <tr>\n      <th>18</th>\n      <td>Denver</td>\n      <td>0.375000</td>\n      <td>0.589041</td>\n    </tr>\n    <tr>\n      <th>19</th>\n      <td>Miami–Fort Lauderdale</td>\n      <td>0.437500</td>\n      <td>0.594595</td>\n    </tr>\n    <tr>\n      <th>20</th>\n      <td>Phoenix</td>\n      <td>0.187500</td>\n      <td>0.414286</td>\n    </tr>\n    <tr>\n      <th>21</th>\n      <td>Detroit</td>\n      <td>0.375000</td>\n      <td>0.434783</td>\n    </tr>\n    <tr>\n      <th>22</th>\n      <td>Tampa Bay Area</td>\n      <td>0.312500</td>\n      <td>0.701299</td>\n    </tr>\n    <tr>\n      <th>23</th>\n      <td>Pittsburgh</td>\n      <td>0.600000</td>\n      <td>0.618421</td>\n    </tr>\n    <tr>\n      <th>24</th>\n      <td>Nashville</td>\n      <td>0.562500</td>\n      <td>0.746479</td>\n    </tr>\n    <tr>\n      <th>25</th>\n      <td>Buffalo</td>\n      <td>0.375000</td>\n      <td>0.357143</td>\n    </tr>\n  </tbody>\n</table>\n</div>"
     },
     "execution_count": 17,
     "metadata": {},
     "output_type": "execute_result"
    }
   ],
   "source": [
    "nfl_full_df = nfl_cleaned_df()[[\"Metropolitan area\", \"WLR\"]]\n",
    "nhl_full_df = nhl_cleaned_df()[[\"Metropolitan area\", \"WLR\"]]\n",
    "df = pd.merge(nfl_full_df, nhl_full_df, on=\"Metropolitan area\")\n",
    "df"
   ],
   "metadata": {
    "collapsed": false,
    "ExecuteTime": {
     "end_time": "2024-01-05T11:44:33.552892Z",
     "start_time": "2024-01-05T11:44:33.300505Z"
    }
   },
   "execution_count": 17
  },
  {
   "cell_type": "code",
   "outputs": [
    {
     "data": {
      "text/plain": "TtestResult(statistic=-2.904580663852721, pvalue=0.0075847697991172245, df=25)"
     },
     "execution_count": 20,
     "metadata": {},
     "output_type": "execute_result"
    }
   ],
   "source": [
    "p = stats.ttest_rel(df[\"WLR_x\"], df[\"WLR_y\"])\n",
    "p"
   ],
   "metadata": {
    "collapsed": false,
    "ExecuteTime": {
     "end_time": "2024-01-05T11:45:32.956576Z",
     "start_time": "2024-01-05T11:45:32.919681Z"
    }
   },
   "execution_count": 20
  },
  {
   "cell_type": "code",
   "outputs": [],
   "source": [],
   "metadata": {
    "collapsed": false
   }
  }
 ],
 "metadata": {
  "kernelspec": {
   "display_name": "Python 3 (ipykernel)",
   "language": "python",
   "name": "python3"
  },
  "language_info": {
   "codemirror_mode": {
    "name": "ipython",
    "version": 3
   },
   "file_extension": ".py",
   "mimetype": "text/x-python",
   "name": "python",
   "nbconvert_exporter": "python",
   "pygments_lexer": "ipython3",
   "version": "3.7.10"
  }
 },
 "nbformat": 4,
 "nbformat_minor": 4
}
